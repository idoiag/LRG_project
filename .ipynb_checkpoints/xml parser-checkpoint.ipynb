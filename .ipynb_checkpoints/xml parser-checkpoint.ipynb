{
 "metadata": {
  "name": "",
  "signature": "sha256:29a965182167e0679f88017776bcddd7c95cfb90dc3190633f935c604941c383"
 },
 "nbformat": 3,
 "nbformat_minor": 0,
 "worksheets": []
}