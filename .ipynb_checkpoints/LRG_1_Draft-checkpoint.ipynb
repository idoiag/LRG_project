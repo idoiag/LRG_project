{
 "cells": [
  {
   "cell_type": "code",
   "execution_count": 42,
   "metadata": {
    "collapsed": false
   },
   "outputs": [],
   "source": [
    "# this could be used to extract info from a webpage. Not necessary because labs will usually have \n",
    "# the info saved\n",
    "\n",
    "from urllib.request import urlopen\n",
    "\n",
    "LRG = \"LRG_1\"\n",
    "page = \"http://ftp.ebi.ac.uk/pub/databases/lrgex/\" + LRG + \".xml\"\n",
    "\n",
    "URL_xml = urlopen(page)\n",
    "xml = URL_xml.read()\n",
    "#print (xml)"
   ]
  },
  {
   "cell_type": "code",
   "execution_count": 161,
   "metadata": {
    "collapsed": false
   },
   "outputs": [],
   "source": [
    "import xml.etree.ElementTree as ET\n",
    "tree = ET.parse('LRG_1.xml')\n",
    "root = tree.getroot()\n",
    "fix_anno = tree.getroot()[0]\n",
    "up_anno = tree.getroot()[1]\n",
    "#mapping = tree.getroot()[1][1]\n",
    "chro37 = tree.getroot()[1][1][2]\n",
    "chro38 = tree.getroot()[1][1][3]"
   ]
  },
  {
   "cell_type": "code",
   "execution_count": 162,
   "metadata": {
    "collapsed": false,
    "scrolled": true
   },
   "outputs": [
    {
     "name": "stdout",
     "output_type": "stream",
     "text": [
      "lrg\n",
      "fixed_annotation\n",
      "updatable_annotation\n",
      "<Element 'annotation_set' at 0x000001E5675E02C8>\n",
      "mapping\n"
     ]
    }
   ],
   "source": [
    "print (root.tag)\n",
    "print (fix_anno.tag)\n",
    "print (up_anno.tag)\n",
    "#print (mapping)\n",
    "print (chro37.tag)"
   ]
  },
  {
   "cell_type": "code",
   "execution_count": 163,
   "metadata": {
    "collapsed": false
   },
   "outputs": [
    {
     "data": {
      "text/plain": [
       "{'schema_version': '1.9'}"
      ]
     },
     "execution_count": 163,
     "metadata": {},
     "output_type": "execute_result"
    }
   ],
   "source": [
    "root.attrib"
   ]
  },
  {
   "cell_type": "code",
   "execution_count": 164,
   "metadata": {
    "collapsed": false
   },
   "outputs": [
    {
     "data": {
      "text/plain": [
       "{'coord_system': 'GRCh37.p13',\n",
       " 'other_end': '48284000',\n",
       " 'other_id': 'NC_000017.10',\n",
       " 'other_id_syn': 'CM000679.1',\n",
       " 'other_name': '17',\n",
       " 'other_start': '48259457',\n",
       " 'type': 'other_assembly'}"
      ]
     },
     "execution_count": 164,
     "metadata": {},
     "output_type": "execute_result"
    }
   ],
   "source": [
    "chro37.attrib"
   ]
  },
  {
   "cell_type": "code",
   "execution_count": 165,
   "metadata": {
    "collapsed": false
   },
   "outputs": [
    {
     "data": {
      "text/plain": [
       "{'coord_system': 'GRCh37.p13',\n",
       " 'other_end': '48284000',\n",
       " 'other_id': 'NC_000017.10',\n",
       " 'other_id_syn': 'CM000679.1',\n",
       " 'other_name': '17',\n",
       " 'other_start': '48259457',\n",
       " 'type': 'other_assembly'}"
      ]
     },
     "execution_count": 165,
     "metadata": {},
     "output_type": "execute_result"
    }
   ],
   "source": [
    "chro37.attrib"
   ]
  },
  {
   "cell_type": "code",
   "execution_count": 166,
   "metadata": {
    "collapsed": false
   },
   "outputs": [
    {
     "data": {
      "text/plain": [
       "{'coord_system': 'GRCh38.p7',\n",
       " 'other_end': '50206639',\n",
       " 'other_id': 'NC_000017.11',\n",
       " 'other_id_syn': 'CM000679.2',\n",
       " 'other_name': '17',\n",
       " 'other_start': '50182096',\n",
       " 'type': 'main_assembly'}"
      ]
     },
     "execution_count": 166,
     "metadata": {},
     "output_type": "execute_result"
    }
   ],
   "source": [
    "chro38.attrib"
   ]
  },
  {
   "cell_type": "code",
   "execution_count": 167,
   "metadata": {
    "collapsed": false
   },
   "outputs": [
    {
     "name": "stdout",
     "output_type": "stream",
     "text": [
      "chhr37 = {'other_id_syn': 'CM000679.1', 'other_id': 'NC_000017.10', 'other_start': '48259457', 'type': 'other_assembly', 'other_end': '48284000', 'other_name': '17', 'coord_system': 'GRCh37.p13'}\n",
      "chhr38 = {'other_id_syn': 'CM000679.2', 'other_id': 'NC_000017.11', 'other_start': '50182096', 'type': 'main_assembly', 'other_end': '50206639', 'other_name': '17', 'coord_system': 'GRCh38.p7'}\n"
     ]
    }
   ],
   "source": [
    "print (\"chhr37 =\", chro37.attrib)\n",
    "print (\"chhr38 =\", chro38.attrib)"
   ]
  },
  {
   "cell_type": "code",
   "execution_count": 168,
   "metadata": {
    "collapsed": false
   },
   "outputs": [
    {
     "name": "stdout",
     "output_type": "stream",
     "text": [
      "root subelements  [<Element 'fixed_annotation' at 0x000001E56749C1D8>, <Element 'updatable_annotation' at 0x000001E5674E8EF8>]\n",
      "\n",
      "root subelements fixed  [<Element 'id' at 0x000001E56749C598>, <Element 'hgnc_id' at 0x000001E56749C778>, <Element 'sequence_source' at 0x000001E56749C458>, <Element 'organism' at 0x000001E5674836D8>, <Element 'source' at 0x000001E5674C0E58>, <Element 'mol_type' at 0x000001E5674C0E08>, <Element 'creation_date' at 0x000001E5674C0B88>, <Element 'sequence' at 0x000001E5674C0B38>, <Element 'transcript' at 0x000001E5674C00E8>]\n",
      "\n",
      "root subelements fixed_transcript  [<Element 'coordinates' at 0x000001E567540A98>, <Element 'cdna' at 0x000001E567540278>, <Element 'coding_region' at 0x000001E567540908>, <Element 'exon' at 0x000001E567540098>, <Element 'intron' at 0x000001E567540188>, <Element 'exon' at 0x000001E567540318>, <Element 'intron' at 0x000001E5675406D8>, <Element 'exon' at 0x000001E5675405E8>, <Element 'intron' at 0x000001E567540598>, <Element 'exon' at 0x000001E567540548>, <Element 'intron' at 0x000001E5675407C8>, <Element 'exon' at 0x000001E567540728>, <Element 'intron' at 0x000001E5674F8728>, <Element 'exon' at 0x000001E5674F85E8>, <Element 'intron' at 0x000001E5674F8318>, <Element 'exon' at 0x000001E5674F8778>, <Element 'intron' at 0x000001E5674F8B38>, <Element 'exon' at 0x000001E5674F8E08>, <Element 'intron' at 0x000001E567556408>, <Element 'exon' at 0x000001E567556228>, <Element 'intron' at 0x000001E56761C408>, <Element 'exon' at 0x000001E56761C048>, <Element 'intron' at 0x000001E56761C548>, <Element 'exon' at 0x000001E56761C4A8>, <Element 'intron' at 0x000001E5676333B8>, <Element 'exon' at 0x000001E567633AE8>, <Element 'intron' at 0x000001E5675F2318>, <Element 'exon' at 0x000001E5675F2368>, <Element 'intron' at 0x000001E5675F2138>, <Element 'exon' at 0x000001E5675F25E8>, <Element 'intron' at 0x000001E5675F2048>, <Element 'exon' at 0x000001E5675F29F8>, <Element 'intron' at 0x000001E5675DC188>, <Element 'exon' at 0x000001E5675DC278>, <Element 'intron' at 0x000001E5675DC3B8>, <Element 'exon' at 0x000001E5675DC0E8>, <Element 'intron' at 0x000001E5675DC318>, <Element 'exon' at 0x000001E5675DC048>, <Element 'intron' at 0x000001E5674369A8>, <Element 'exon' at 0x000001E567436278>, <Element 'intron' at 0x000001E567436BD8>, <Element 'exon' at 0x000001E5674ABDB8>, <Element 'intron' at 0x000001E5674ABEF8>, <Element 'exon' at 0x000001E5674ABCC8>, <Element 'intron' at 0x000001E5675A4E08>, <Element 'exon' at 0x000001E5675A4EF8>, <Element 'intron' at 0x000001E5675A4C78>, <Element 'exon' at 0x000001E5675A4D68>, <Element 'intron' at 0x000001E5675A4AE8>, <Element 'exon' at 0x000001E5675A4BD8>, <Element 'intron' at 0x000001E5675A4958>, <Element 'exon' at 0x000001E5675A4A48>, <Element 'intron' at 0x000001E5675A47C8>, <Element 'exon' at 0x000001E5675A48B8>, <Element 'intron' at 0x000001E5675A4638>, <Element 'exon' at 0x000001E5675A4728>, <Element 'intron' at 0x000001E5675A4188>, <Element 'exon' at 0x000001E5675A4278>, <Element 'intron' at 0x000001E5675A43B8>, <Element 'exon' at 0x000001E5675A4138>, <Element 'intron' at 0x000001E5674C7F98>, <Element 'exon' at 0x000001E5674C7EA8>, <Element 'intron' at 0x000001E56754E228>, <Element 'exon' at 0x000001E56754EEF8>, <Element 'intron' at 0x000001E56754E4A8>, <Element 'exon' at 0x000001E56754EF48>, <Element 'intron' at 0x000001E56754EEA8>, <Element 'exon' at 0x000001E56754EDB8>, <Element 'intron' at 0x000001E56754ED18>, <Element 'exon' at 0x000001E56754EC28>, <Element 'intron' at 0x000001E56754EB88>, <Element 'exon' at 0x000001E56754EA98>, <Element 'intron' at 0x000001E56754E9F8>, <Element 'exon' at 0x000001E56754E908>, <Element 'intron' at 0x000001E56754E868>, <Element 'exon' at 0x000001E56754E778>, <Element 'intron' at 0x000001E56754E6D8>, <Element 'exon' at 0x000001E56754E5E8>, <Element 'intron' at 0x000001E5675D7C78>, <Element 'exon' at 0x000001E5675D7E58>, <Element 'intron' at 0x000001E5675D7D18>, <Element 'exon' at 0x000001E5675D7EA8>, <Element 'intron' at 0x000001E56759EEA8>, <Element 'exon' at 0x000001E56759EE58>, <Element 'intron' at 0x000001E56759EF98>, <Element 'exon' at 0x000001E56759EA98>, <Element 'intron' at 0x000001E56759EE08>, <Element 'exon' at 0x000001E56759EB88>, <Element 'intron' at 0x000001E56759E9A8>, <Element 'exon' at 0x000001E56759E818>, <Element 'intron' at 0x000001E56759EC28>, <Element 'exon' at 0x000001E56759E778>, <Element 'intron' at 0x000001E56759E598>, <Element 'exon' at 0x000001E56759E548>, <Element 'intron' at 0x000001E56759E5E8>, <Element 'exon' at 0x000001E56759E318>, <Element 'intron' at 0x000001E56759E4A8>, <Element 'exon' at 0x000001E56759E228>, <Element 'intron' at 0x000001E56759E0E8>, <Element 'exon' at 0x000001E56759EC78>, <Element 'intron' at 0x000001E56759E098>, <Element 'exon' at 0x000001E5674E8E08>, <Element 'intron' at 0x000001E5674E8EA8>, <Element 'exon' at 0x000001E5674E8F98>]\n",
      "\n",
      "root subelements updatable [<Element 'annotation_set' at 0x000001E5674E8958>, <Element 'annotation_set' at 0x000001E5674E88B8>, <Element 'annotation_set' at 0x000001E567659F98>, <Element 'annotation_set' at 0x000001E566403728>, <Element 'annotation_set' at 0x000001E567573598>, <Element 'annotation_set' at 0x000001E5676665E8>]\n",
      "\n",
      "root subelements updatable [<Element 'source' at 0x000001E5674E8B38>, <Element 'modification_date' at 0x000001E567659278>, <Element 'mapping' at 0x000001E567659598>, <Element 'mapping' at 0x000001E567659EF8>, <Element 'lrg_locus' at 0x000001E567659368>]\n",
      "Build =  []\n"
     ]
    }
   ],
   "source": [
    "print (\"root subelements \", root.getchildren())\n",
    "print ()\n",
    "print (\"root subelements fixed \", root.getchildren()[0].getchildren())\n",
    "print ()\n",
    "print (\"root subelements fixed_transcript \", root.getchildren()[0].getchildren()[8].getchildren())\n",
    "print ()\n",
    "print (\"root subelements updatable\", root.getchildren()[1].getchildren()) \n",
    "print ()     \n",
    "print (\"root subelements updatable\", root.getchildren()[1].getchildren()[1].getchildren()) \n",
    "build = [updatable_annotation for updatable_annotation in root.findall('updatable_annotation') if updatable_annotation.findtext('annotation_set') == 'lrg']\n",
    "print (\"Build = \", build)\n"
   ]
  },
  {
   "cell_type": "code",
   "execution_count": 169,
   "metadata": {
    "collapsed": false
   },
   "outputs": [
    {
     "name": "stdout",
     "output_type": "stream",
     "text": [
      "fixed_annotation {}\n",
      "updatable_annotation {}\n"
     ]
    }
   ],
   "source": [
    "for child in root:\n",
    "    print (child.tag, child.attrib)"
   ]
  },
  {
   "cell_type": "code",
   "execution_count": 176,
   "metadata": {
    "collapsed": false
   },
   "outputs": [
    {
     "name": "stdout",
     "output_type": "stream",
     "text": [
      "LRG_1\n",
      "NG_007400.1\n",
      "Homo sapiens\n",
      "Osteogenesis Imperfecta Variant Database - COL1A1\n",
      "dna\n",
      "2010-03-17\n",
      "<Element 'mapping' at 0x000001E567659598>\n"
     ]
    }
   ],
   "source": [
    "#DONE: Obtain LRG_ID\n",
    "print (root[0][0].text)\n",
    "print (root[0][2].text)\n",
    "print (root[0][3].text)\n",
    "print (root[0][4][0].text)\n",
    "print (root[0][5].text)\n",
    "print (root[0][6].text)\n",
    "#print (root[0][7].text)\n",
    "print (root[1][1][2])\n",
    "#chr = country.get('other_name')"
   ]
  },
  {
   "cell_type": "code",
   "execution_count": 178,
   "metadata": {
    "collapsed": false
   },
   "outputs": [
    {
     "name": "stdout",
     "output_type": "stream",
     "text": [
      "<Element 'mapping' at 0x000001E567659598>\n"
     ]
    }
   ],
   "source": [
    "print (up_anno[1][2])"
   ]
  },
  {
   "cell_type": "code",
   "execution_count": 94,
   "metadata": {
    "collapsed": false
   },
   "outputs": [
    {
     "name": "stdout",
     "output_type": "stream",
     "text": [
      "{'label': '1'}\n",
      "{'label': '2'}\n",
      "{'label': '3'}\n",
      "{'label': '4'}\n",
      "{'label': '5'}\n",
      "{'label': '6'}\n",
      "{'label': '7'}\n",
      "{'label': '8'}\n",
      "{'label': '9'}\n",
      "{'label': '10'}\n",
      "{'label': '11'}\n",
      "{'label': '12'}\n",
      "{'label': '13'}\n",
      "{'label': '14'}\n",
      "{'label': '15'}\n",
      "{'label': '16'}\n",
      "{'label': '17'}\n",
      "{'label': '18'}\n",
      "{'label': '19'}\n",
      "{'label': '20'}\n",
      "{'label': '21'}\n",
      "{'label': '22'}\n",
      "{'label': '23'}\n",
      "{'label': '24'}\n",
      "{'label': '25'}\n",
      "{'label': '26'}\n",
      "{'label': '27'}\n",
      "{'label': '28'}\n",
      "{'label': '29'}\n",
      "{'label': '30'}\n",
      "{'label': '31'}\n",
      "{'label': '32'}\n",
      "{'label': '33'}\n",
      "{'label': '34'}\n",
      "{'label': '35'}\n",
      "{'label': '36'}\n",
      "{'label': '37'}\n",
      "{'label': '38'}\n",
      "{'label': '39'}\n",
      "{'label': '40'}\n",
      "{'label': '41'}\n",
      "{'label': '42'}\n",
      "{'label': '43'}\n",
      "{'label': '44'}\n",
      "{'label': '45'}\n",
      "{'label': '46'}\n",
      "{'label': '47'}\n",
      "{'label': '48'}\n",
      "{'label': '49'}\n",
      "{'label': '50'}\n",
      "{'label': '51'}\n"
     ]
    }
   ],
   "source": [
    "for exon in fix_anno.iter('exon'):\n",
    "    print (exon.attrib)\n",
    "    #rank = country.find('rank').text\n",
    "    #start = exon.find('start')\n",
    "    #print (start)"
   ]
  },
  {
   "cell_type": "code",
   "execution_count": 197,
   "metadata": {
    "collapsed": false
   },
   "outputs": [
    {
     "name": "stdout",
     "output_type": "stream",
     "text": [
      "GRCh37.p13 17 NC_000017.10 48259457 48284000\n",
      "GRCh38.p7 17 NC_000017.11 50182096 50206639\n"
     ]
    }
   ],
   "source": [
    "#for annotation in up_anno.findall('annotation_set'):\n",
    "for annotation in up_anno[1].findall('mapping'):\n",
    "    #GHC = annotation.find('rank').text\n",
    "    #name = annotation.get('type')\n",
    "    coord = annotation.get('coord_system')\n",
    "    chro = annotation.get('other_name')\n",
    "    NC_trans = annotation.get('other_id')\n",
    "    gstart = annotation.get('other_start')\n",
    "    gend = annotation.get('other_end')\n",
    "    print (coord, chro, NC_trans, gstart, gend, )\n",
    "    "
   ]
  },
  {
   "cell_type": "code",
   "execution_count": 194,
   "metadata": {
    "collapsed": false
   },
   "outputs": [],
   "source": [
    "### IP #####\n",
    "\n",
    "#for annotation in up_anno.findall('annotation_set'):\n",
    "for annotation in up_anno[1].findall('mapping_span'):\n",
    "    #GHC = annotation.find('rank').text\n",
    "    #name = annotation.get('type')\n",
    "    strand = annotation.get('strand')\n",
    "    #chro = annotation.get('other_name')\n",
    "    #NC_trans = annotation.get('other_id')\n",
    "    #gstart = annotation.get('other_start')\n",
    "    #gend = annotation.get('other_end')\n",
    "    print (strand )\n",
    "    print (\"Hello\")"
   ]
  },
  {
   "cell_type": "code",
   "execution_count": null,
   "metadata": {
    "collapsed": true
   },
   "outputs": [],
   "source": []
  }
 ],
 "metadata": {
  "anaconda-cloud": {},
  "kernelspec": {
   "display_name": "Python [default]",
   "language": "python",
   "name": "python3"
  },
  "language_info": {
   "codemirror_mode": {
    "name": "ipython",
    "version": 3
   },
   "file_extension": ".py",
   "mimetype": "text/x-python",
   "name": "python",
   "nbconvert_exporter": "python",
   "pygments_lexer": "ipython3",
   "version": "3.5.2"
  }
 },
 "nbformat": 4,
 "nbformat_minor": 1
}
