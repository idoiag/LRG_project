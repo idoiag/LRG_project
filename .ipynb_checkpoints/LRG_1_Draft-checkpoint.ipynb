{
 "cells": [
  {
   "cell_type": "code",
   "execution_count": 6,
   "metadata": {
    "collapsed": false
   },
   "outputs": [],
   "source": [
    "# this could be used to extract info from a webpage. Not necessary because labs will usually have \n",
    "# the info saved\n",
    "\n",
    "from urllib.request import urlopen\n",
    "\n",
    "LRG = \"LRG_1\"\n",
    "page = \"http://ftp.ebi.ac.uk/pub/databases/lrgex/\" + LRG + \".xml\"\n",
    "\n",
    "URL_xml = urlopen(page)\n",
    "xml = URL_xml.read()\n",
    "#print (xml)"
   ]
  },
  {
   "cell_type": "code",
   "execution_count": 18,
   "metadata": {
    "collapsed": false
   },
   "outputs": [],
   "source": [
    "import xml.etree.ElementTree as ET\n",
    "tree = ET.parse('LRG_1.xml')\n",
    "root = tree.getroot()\n",
    "fix_anno = tree.getroot()[0]\n",
    "#exon_info = tree.getroot()[0][8][3]\n",
    "up_anno = tree.getroot()[1]\n",
    "chro37 = tree.getroot()[1][1][2]\n",
    "chro38 = tree.getroot()[1][1][3]"
   ]
  },
  {
   "cell_type": "code",
   "execution_count": 19,
   "metadata": {
    "collapsed": false,
    "scrolled": true
   },
   "outputs": [
    {
     "name": "stdout",
     "output_type": "stream",
     "text": [
      "lrg\n",
      "fixed_annotation\n",
      "updatable_annotation\n",
      "mapping\n",
      "exon\n"
     ]
    }
   ],
   "source": [
    "print (root.tag)\n",
    "print (fix_anno.tag)\n",
    "print (up_anno.tag)\n",
    "print (chro37.tag)\n",
    "#print (exon_info.tag)"
   ]
  },
  {
   "cell_type": "code",
   "execution_count": 20,
   "metadata": {
    "collapsed": false
   },
   "outputs": [
    {
     "data": {
      "text/plain": [
       "{'schema_version': '1.9'}"
      ]
     },
     "execution_count": 20,
     "metadata": {},
     "output_type": "execute_result"
    }
   ],
   "source": [
    "root.attrib"
   ]
  },
  {
   "cell_type": "code",
   "execution_count": 21,
   "metadata": {
    "collapsed": false
   },
   "outputs": [
    {
     "data": {
      "text/plain": [
       "{'coord_system': 'GRCh37.p13',\n",
       " 'other_end': '48284000',\n",
       " 'other_id': 'NC_000017.10',\n",
       " 'other_id_syn': 'CM000679.1',\n",
       " 'other_name': '17',\n",
       " 'other_start': '48259457',\n",
       " 'type': 'other_assembly'}"
      ]
     },
     "execution_count": 21,
     "metadata": {},
     "output_type": "execute_result"
    }
   ],
   "source": [
    "chro37.attrib"
   ]
  },
  {
   "cell_type": "code",
   "execution_count": 71,
   "metadata": {
    "collapsed": false
   },
   "outputs": [
    {
     "name": "stdout",
     "output_type": "stream",
     "text": [
      "LRG_1 2197 NG_007400.1 t1 LRG_1 5001 22544 1\n"
     ]
    }
   ],
   "source": [
    "for fixed in root.findall(\"./fixed_annotation\"):\n",
    "    lrg_id = fixed.find('id').text\n",
    "    hgnc_id = fixed.find ('hgnc_id').text\n",
    "    seq_source = fixed.find ('sequence_source').text\n",
    "    \n",
    "    for transcript in root.findall(\"./fixed_annotation/transcript\"):\n",
    "        transcript = transcript.get('name')\n",
    "        \n",
    "        for coordinates in root.findall(\"./fixed_annotation/transcript/coordinates\"):\n",
    "            cs = coordinates.get('coord_system')\n",
    "            start_cs = coordinates.get('start')\n",
    "            end_cs = coordinates.get('end')\n",
    "            strand_cs = coordinates.get('strand')\n",
    "            \n",
    "            \n",
    "    print ( lrg_id,  hgnc_id, seq_source, transcript, cs, start_cs, end_cs, strand_cs)\n",
    "\n"
   ]
  },
  {
   "cell_type": "code",
   "execution_count": null,
   "metadata": {
    "collapsed": true
   },
   "outputs": [],
   "source": [
    "## People have used this code to extract info when there are several children \n",
    "## of the same type\n",
    "\n",
    "#if findall(\"somethingHere\"[0]).tag == source:\n",
    "    \n",
    "## to test, people use \"assert\"\n",
    "#assert\n",
    "    "
   ]
  },
  {
   "cell_type": "code",
   "execution_count": 27,
   "metadata": {
    "collapsed": false
   },
   "outputs": [
    {
     "data": {
      "text/plain": [
       "{'coord_system': 'GRCh38.p7',\n",
       " 'other_end': '50206639',\n",
       " 'other_id': 'NC_000017.11',\n",
       " 'other_id_syn': 'CM000679.2',\n",
       " 'other_name': '17',\n",
       " 'other_start': '50182096',\n",
       " 'type': 'main_assembly'}"
      ]
     },
     "execution_count": 27,
     "metadata": {},
     "output_type": "execute_result"
    }
   ],
   "source": [
    "chro38.attrib"
   ]
  },
  {
   "cell_type": "code",
   "execution_count": null,
   "metadata": {
    "collapsed": true
   },
   "outputs": [],
   "source": []
  },
  {
   "cell_type": "code",
   "execution_count": 24,
   "metadata": {
    "collapsed": false
   },
   "outputs": [
    {
     "name": "stdout",
     "output_type": "stream",
     "text": [
      "chhr37 = {'other_id_syn': 'CM000679.1', 'type': 'other_assembly', 'other_start': '48259457', 'other_name': '17', 'other_id': 'NC_000017.10', 'other_end': '48284000', 'coord_system': 'GRCh37.p13'}\n",
      "chhr38 = {'other_id_syn': 'CM000679.2', 'type': 'main_assembly', 'other_start': '50182096', 'other_name': '17', 'other_id': 'NC_000017.11', 'other_end': '50206639', 'coord_system': 'GRCh38.p7'}\n"
     ]
    }
   ],
   "source": [
    "print (\"chhr37 =\", chro37.attrib)\n",
    "print (\"chhr38 =\", chro38.attrib)"
   ]
  },
  {
   "cell_type": "code",
   "execution_count": 30,
   "metadata": {
    "collapsed": false
   },
   "outputs": [
    {
     "name": "stdout",
     "output_type": "stream",
     "text": [
      "root subelements  [<Element 'fixed_annotation' at 0x000001993483F368>, <Element 'updatable_annotation' at 0x0000019934983368>] \n",
      "\n",
      "root subelements fixed  [<Element 'id' at 0x000001993483F868>, <Element 'hgnc_id' at 0x0000019934959D18>, <Element 'sequence_source' at 0x0000019934959C78>, <Element 'organism' at 0x00000199349599F8>, <Element 'source' at 0x0000019934959958>, <Element 'mol_type' at 0x0000019934959DB8>, <Element 'creation_date' at 0x0000019934959EA8>, <Element 'sequence' at 0x0000019934959C28>, <Element 'transcript' at 0x0000019934959F48>] \n",
      "\n",
      "root subelements fixed_transcript  [<Element 'coordinates' at 0x0000019934959F98>, <Element 'cdna' at 0x000001993495E048>, <Element 'coding_region' at 0x000001993495E0E8>, <Element 'exon' at 0x000001993495E228>, <Element 'intron' at 0x000001993495E368>, <Element 'exon' at 0x000001993495E3B8>, <Element 'intron' at 0x000001993495E4F8>, <Element 'exon' at 0x000001993495E548>, <Element 'intron' at 0x000001993495E688>, <Element 'exon' at 0x000001993495E6D8>, <Element 'intron' at 0x000001993495E818>, <Element 'exon' at 0x000001993495E868>, <Element 'intron' at 0x000001993495E9A8>, <Element 'exon' at 0x000001993495E9F8>, <Element 'intron' at 0x000001993495EB38>, <Element 'exon' at 0x000001993495EB88>, <Element 'intron' at 0x000001993495ECC8>, <Element 'exon' at 0x000001993495ED18>, <Element 'intron' at 0x000001993495EE58>, <Element 'exon' at 0x000001993495EEA8>, <Element 'intron' at 0x000001993496C048>, <Element 'exon' at 0x000001993496C098>, <Element 'intron' at 0x000001993496C1D8>, <Element 'exon' at 0x000001993496C228>, <Element 'intron' at 0x000001993496C368>, <Element 'exon' at 0x000001993496C3B8>, <Element 'intron' at 0x000001993496C4F8>, <Element 'exon' at 0x000001993496C548>, <Element 'intron' at 0x000001993496C688>, <Element 'exon' at 0x000001993496C6D8>, <Element 'intron' at 0x000001993496C818>, <Element 'exon' at 0x000001993496C868>, <Element 'intron' at 0x000001993496C9A8>, <Element 'exon' at 0x000001993496C9F8>, <Element 'intron' at 0x000001993496CB38>, <Element 'exon' at 0x000001993496CB88>, <Element 'intron' at 0x000001993496CCC8>, <Element 'exon' at 0x000001993496CD18>, <Element 'intron' at 0x000001993496CE58>, <Element 'exon' at 0x000001993496CEA8>, <Element 'intron' at 0x0000019934972048>, <Element 'exon' at 0x0000019934972098>, <Element 'intron' at 0x00000199349721D8>, <Element 'exon' at 0x0000019934972228>, <Element 'intron' at 0x0000019934972368>, <Element 'exon' at 0x00000199349723B8>, <Element 'intron' at 0x00000199349724F8>, <Element 'exon' at 0x0000019934972548>, <Element 'intron' at 0x0000019934972688>, <Element 'exon' at 0x00000199349726D8>, <Element 'intron' at 0x0000019934972818>, <Element 'exon' at 0x0000019934972868>, <Element 'intron' at 0x00000199349729A8>, <Element 'exon' at 0x00000199349729F8>, <Element 'intron' at 0x0000019934972B38>, <Element 'exon' at 0x0000019934972B88>, <Element 'intron' at 0x0000019934972CC8>, <Element 'exon' at 0x0000019934972D18>, <Element 'intron' at 0x0000019934972E58>, <Element 'exon' at 0x0000019934972EA8>, <Element 'intron' at 0x0000019934977048>, <Element 'exon' at 0x0000019934977098>, <Element 'intron' at 0x00000199349771D8>, <Element 'exon' at 0x0000019934977228>, <Element 'intron' at 0x0000019934977368>, <Element 'exon' at 0x00000199349773B8>, <Element 'intron' at 0x00000199349774F8>, <Element 'exon' at 0x0000019934977548>, <Element 'intron' at 0x0000019934977688>, <Element 'exon' at 0x00000199349776D8>, <Element 'intron' at 0x0000019934977818>, <Element 'exon' at 0x0000019934977868>, <Element 'intron' at 0x00000199349779A8>, <Element 'exon' at 0x00000199349779F8>, <Element 'intron' at 0x0000019934977B38>, <Element 'exon' at 0x0000019934977B88>, <Element 'intron' at 0x0000019934977CC8>, <Element 'exon' at 0x0000019934977D18>, <Element 'intron' at 0x0000019934977E58>, <Element 'exon' at 0x0000019934977EA8>, <Element 'intron' at 0x000001993497D048>, <Element 'exon' at 0x000001993497D098>, <Element 'intron' at 0x000001993497D1D8>, <Element 'exon' at 0x000001993497D228>, <Element 'intron' at 0x000001993497D368>, <Element 'exon' at 0x000001993497D3B8>, <Element 'intron' at 0x000001993497D4F8>, <Element 'exon' at 0x000001993497D548>, <Element 'intron' at 0x000001993497D688>, <Element 'exon' at 0x000001993497D6D8>, <Element 'intron' at 0x000001993497D818>, <Element 'exon' at 0x000001993497D868>, <Element 'intron' at 0x000001993497D9A8>, <Element 'exon' at 0x000001993497D9F8>, <Element 'intron' at 0x000001993497DB38>, <Element 'exon' at 0x000001993497DB88>, <Element 'intron' at 0x000001993497DCC8>, <Element 'exon' at 0x000001993497DD18>, <Element 'intron' at 0x000001993497DE58>, <Element 'exon' at 0x000001993497DEA8>, <Element 'intron' at 0x0000019934983048>, <Element 'exon' at 0x0000019934983098>, <Element 'intron' at 0x00000199349831D8>, <Element 'exon' at 0x0000019934983228>] \n",
      "\n",
      "root subelements updatable [<Element 'annotation_set' at 0x00000199349833B8>, <Element 'annotation_set' at 0x00000199349836D8>, <Element 'annotation_set' at 0x0000019934983C28>, <Element 'annotation_set' at 0x000001993596D9A8>, <Element 'annotation_set' at 0x00000199359A3818>, <Element 'annotation_set' at 0x00000199359B2CC8>] \n",
      "\n",
      "root subelements updatable [<Element 'source' at 0x0000019934983728>, <Element 'modification_date' at 0x00000199349839F8>, <Element 'mapping' at 0x0000019934983A48>, <Element 'mapping' at 0x0000019934983B38>, <Element 'lrg_locus' at 0x0000019934983BD8>] \n",
      "\n",
      "Build =  [] \n",
      "\n"
     ]
    }
   ],
   "source": [
    "# print (\"root subelements \", root.getchildren(), \"\\n\")\n",
    "# print (\"root subelements fixed \", root.getchildren()[0].getchildren(),  \"\\n\")\n",
    "# print (\"root subelements fixed_transcript \", root.getchildren()[0].getchildren()[8].getchildren(), \"\\n\")\n",
    "# print (\"root subelements updatable\", root.getchildren()[1].getchildren(), \"\\n\") \n",
    "# print (\"root subelements updatable\", root.getchildren()[1].getchildren()[1].getchildren(), \"\\n\") \n",
    "build = [updatable_annotation for updatable_annotation in root.findall('updatable_annotation') if updatable_annotation.findtext('annotation_set') == 'lrg']\n",
    "# print (\"Build = \", build, \"\\n\")"
   ]
  },
  {
   "cell_type": "code",
   "execution_count": 15,
   "metadata": {
    "collapsed": false
   },
   "outputs": [
    {
     "name": "stdout",
     "output_type": "stream",
     "text": [
      "id {}\n",
      "hgnc_id {}\n",
      "sequence_source {}\n",
      "organism {'taxon': '9606'}\n",
      "source {}\n",
      "mol_type {}\n",
      "creation_date {}\n",
      "sequence {}\n",
      "transcript {'name': 't1'}\n"
     ]
    }
   ],
   "source": [
    "for child in fix_anno:\n",
    "    print (child.tag, child.attrib)"
   ]
  },
  {
   "cell_type": "code",
   "execution_count": 16,
   "metadata": {
    "collapsed": false
   },
   "outputs": [
    {
     "name": "stdout",
     "output_type": "stream",
     "text": [
      "LRG_1\n",
      "NG_007400.1\n",
      "Homo sapiens\n",
      "Osteogenesis Imperfecta Variant Database - COL1A1\n",
      "dna\n",
      "2010-03-17\n",
      "<Element 'mapping' at 0x00000199348DF548>\n"
     ]
    }
   ],
   "source": [
    "#DONE: Obtain LRG_ID\n",
    "print (root[0][0].text)\n",
    "print (root[0][2].text)\n",
    "print (root[0][3].text)\n",
    "print (root[0][4][0].text)\n",
    "print (root[0][5].text)\n",
    "print (root[0][6].text)\n",
    "#print (root[0][7].text)\n",
    "print (root[1][1][2])\n",
    "#chr = country.get('other_name')"
   ]
  },
  {
   "cell_type": "code",
   "execution_count": 26,
   "metadata": {
    "collapsed": false
   },
   "outputs": [
    {
     "name": "stdout",
     "output_type": "stream",
     "text": [
      "{'label': '1'}\n",
      "exon {'label': '1'}\n",
      "{'label': '2'}\n",
      "exon {'label': '2'}\n",
      "{'label': '3'}\n",
      "exon {'label': '3'}\n",
      "{'label': '4'}\n",
      "exon {'label': '4'}\n",
      "{'label': '5'}\n",
      "exon {'label': '5'}\n",
      "{'label': '6'}\n",
      "exon {'label': '6'}\n",
      "{'label': '7'}\n",
      "exon {'label': '7'}\n",
      "{'label': '8'}\n",
      "exon {'label': '8'}\n",
      "{'label': '9'}\n",
      "exon {'label': '9'}\n",
      "{'label': '10'}\n",
      "exon {'label': '10'}\n",
      "{'label': '11'}\n",
      "exon {'label': '11'}\n",
      "{'label': '12'}\n",
      "exon {'label': '12'}\n",
      "{'label': '13'}\n",
      "exon {'label': '13'}\n",
      "{'label': '14'}\n",
      "exon {'label': '14'}\n",
      "{'label': '15'}\n",
      "exon {'label': '15'}\n",
      "{'label': '16'}\n",
      "exon {'label': '16'}\n",
      "{'label': '17'}\n",
      "exon {'label': '17'}\n",
      "{'label': '18'}\n",
      "exon {'label': '18'}\n",
      "{'label': '19'}\n",
      "exon {'label': '19'}\n",
      "{'label': '20'}\n",
      "exon {'label': '20'}\n",
      "{'label': '21'}\n",
      "exon {'label': '21'}\n",
      "{'label': '22'}\n",
      "exon {'label': '22'}\n",
      "{'label': '23'}\n",
      "exon {'label': '23'}\n",
      "{'label': '24'}\n",
      "exon {'label': '24'}\n",
      "{'label': '25'}\n",
      "exon {'label': '25'}\n",
      "{'label': '26'}\n",
      "exon {'label': '26'}\n",
      "{'label': '27'}\n",
      "exon {'label': '27'}\n",
      "{'label': '28'}\n",
      "exon {'label': '28'}\n",
      "{'label': '29'}\n",
      "exon {'label': '29'}\n",
      "{'label': '30'}\n",
      "exon {'label': '30'}\n",
      "{'label': '31'}\n",
      "exon {'label': '31'}\n",
      "{'label': '32'}\n",
      "exon {'label': '32'}\n",
      "{'label': '33'}\n",
      "exon {'label': '33'}\n",
      "{'label': '34'}\n",
      "exon {'label': '34'}\n",
      "{'label': '35'}\n",
      "exon {'label': '35'}\n",
      "{'label': '36'}\n",
      "exon {'label': '36'}\n",
      "{'label': '37'}\n",
      "exon {'label': '37'}\n",
      "{'label': '38'}\n",
      "exon {'label': '38'}\n",
      "{'label': '39'}\n",
      "exon {'label': '39'}\n",
      "{'label': '40'}\n",
      "exon {'label': '40'}\n",
      "{'label': '41'}\n",
      "exon {'label': '41'}\n",
      "{'label': '42'}\n",
      "exon {'label': '42'}\n",
      "{'label': '43'}\n",
      "exon {'label': '43'}\n",
      "{'label': '44'}\n",
      "exon {'label': '44'}\n",
      "{'label': '45'}\n",
      "exon {'label': '45'}\n",
      "{'label': '46'}\n",
      "exon {'label': '46'}\n",
      "{'label': '47'}\n",
      "exon {'label': '47'}\n",
      "{'label': '48'}\n",
      "exon {'label': '48'}\n",
      "{'label': '49'}\n",
      "exon {'label': '49'}\n",
      "{'label': '50'}\n",
      "exon {'label': '50'}\n",
      "{'label': '51'}\n",
      "exon {'label': '51'}\n",
      "{'source': 'RefSeq', 'accession': ''}\n",
      "exon {'source': 'RefSeq', 'accession': ''}\n",
      "{'source': 'RefSeq', 'accession': ''}\n",
      "exon {'source': 'RefSeq', 'accession': ''}\n",
      "{'source': 'RefSeq', 'accession': ''}\n",
      "exon {'source': 'RefSeq', 'accession': ''}\n",
      "{'source': 'RefSeq', 'accession': ''}\n",
      "exon {'source': 'RefSeq', 'accession': ''}\n",
      "{'source': 'RefSeq', 'accession': ''}\n",
      "exon {'source': 'RefSeq', 'accession': ''}\n",
      "{'source': 'RefSeq', 'accession': ''}\n",
      "exon {'source': 'RefSeq', 'accession': ''}\n",
      "{'source': 'RefSeq', 'accession': ''}\n",
      "exon {'source': 'RefSeq', 'accession': ''}\n",
      "{'source': 'RefSeq', 'accession': ''}\n",
      "exon {'source': 'RefSeq', 'accession': ''}\n",
      "{'source': 'RefSeq', 'accession': ''}\n",
      "exon {'source': 'RefSeq', 'accession': ''}\n",
      "{'source': 'RefSeq', 'accession': ''}\n",
      "exon {'source': 'RefSeq', 'accession': ''}\n",
      "{'source': 'RefSeq', 'accession': ''}\n",
      "exon {'source': 'RefSeq', 'accession': ''}\n",
      "{'source': 'RefSeq', 'accession': ''}\n",
      "exon {'source': 'RefSeq', 'accession': ''}\n",
      "{'source': 'RefSeq', 'accession': ''}\n",
      "exon {'source': 'RefSeq', 'accession': ''}\n",
      "{'source': 'RefSeq', 'accession': ''}\n",
      "exon {'source': 'RefSeq', 'accession': ''}\n",
      "{'source': 'RefSeq', 'accession': ''}\n",
      "exon {'source': 'RefSeq', 'accession': ''}\n",
      "{'source': 'RefSeq', 'accession': ''}\n",
      "exon {'source': 'RefSeq', 'accession': ''}\n",
      "{'source': 'RefSeq', 'accession': ''}\n",
      "exon {'source': 'RefSeq', 'accession': ''}\n",
      "{'source': 'RefSeq', 'accession': ''}\n",
      "exon {'source': 'RefSeq', 'accession': ''}\n",
      "{'source': 'RefSeq', 'accession': ''}\n",
      "exon {'source': 'RefSeq', 'accession': ''}\n",
      "{'source': 'RefSeq', 'accession': ''}\n",
      "exon {'source': 'RefSeq', 'accession': ''}\n",
      "{'source': 'RefSeq', 'accession': ''}\n",
      "exon {'source': 'RefSeq', 'accession': ''}\n",
      "{'source': 'RefSeq', 'accession': ''}\n",
      "exon {'source': 'RefSeq', 'accession': ''}\n",
      "{'source': 'RefSeq', 'accession': ''}\n",
      "exon {'source': 'RefSeq', 'accession': ''}\n",
      "{'source': 'RefSeq', 'accession': ''}\n",
      "exon {'source': 'RefSeq', 'accession': ''}\n",
      "{'source': 'RefSeq', 'accession': ''}\n",
      "exon {'source': 'RefSeq', 'accession': ''}\n",
      "{'source': 'RefSeq', 'accession': ''}\n",
      "exon {'source': 'RefSeq', 'accession': ''}\n",
      "{'source': 'RefSeq', 'accession': ''}\n",
      "exon {'source': 'RefSeq', 'accession': ''}\n",
      "{'source': 'RefSeq', 'accession': ''}\n",
      "exon {'source': 'RefSeq', 'accession': ''}\n",
      "{'source': 'RefSeq', 'accession': ''}\n",
      "exon {'source': 'RefSeq', 'accession': ''}\n",
      "{'source': 'RefSeq', 'accession': ''}\n",
      "exon {'source': 'RefSeq', 'accession': ''}\n",
      "{'source': 'RefSeq', 'accession': ''}\n",
      "exon {'source': 'RefSeq', 'accession': ''}\n",
      "{'source': 'RefSeq', 'accession': ''}\n",
      "exon {'source': 'RefSeq', 'accession': ''}\n",
      "{'source': 'RefSeq', 'accession': ''}\n",
      "exon {'source': 'RefSeq', 'accession': ''}\n",
      "{'source': 'RefSeq', 'accession': ''}\n",
      "exon {'source': 'RefSeq', 'accession': ''}\n",
      "{'source': 'RefSeq', 'accession': ''}\n",
      "exon {'source': 'RefSeq', 'accession': ''}\n",
      "{'source': 'RefSeq', 'accession': ''}\n",
      "exon {'source': 'RefSeq', 'accession': ''}\n",
      "{'source': 'RefSeq', 'accession': ''}\n",
      "exon {'source': 'RefSeq', 'accession': ''}\n",
      "{'source': 'RefSeq', 'accession': ''}\n",
      "exon {'source': 'RefSeq', 'accession': ''}\n",
      "{'source': 'RefSeq', 'accession': ''}\n",
      "exon {'source': 'RefSeq', 'accession': ''}\n",
      "{'source': 'RefSeq', 'accession': ''}\n",
      "exon {'source': 'RefSeq', 'accession': ''}\n",
      "{'source': 'RefSeq', 'accession': ''}\n",
      "exon {'source': 'RefSeq', 'accession': ''}\n",
      "{'source': 'RefSeq', 'accession': ''}\n",
      "exon {'source': 'RefSeq', 'accession': ''}\n",
      "{'source': 'RefSeq', 'accession': ''}\n",
      "exon {'source': 'RefSeq', 'accession': ''}\n",
      "{'source': 'RefSeq', 'accession': ''}\n",
      "exon {'source': 'RefSeq', 'accession': ''}\n",
      "{'source': 'RefSeq', 'accession': ''}\n",
      "exon {'source': 'RefSeq', 'accession': ''}\n",
      "{'source': 'RefSeq', 'accession': ''}\n",
      "exon {'source': 'RefSeq', 'accession': ''}\n",
      "{'source': 'RefSeq', 'accession': ''}\n",
      "exon {'source': 'RefSeq', 'accession': ''}\n",
      "{'source': 'RefSeq', 'accession': ''}\n",
      "exon {'source': 'RefSeq', 'accession': ''}\n",
      "{'source': 'RefSeq', 'accession': ''}\n",
      "exon {'source': 'RefSeq', 'accession': ''}\n",
      "{'source': 'RefSeq', 'accession': ''}\n",
      "exon {'source': 'RefSeq', 'accession': ''}\n",
      "{'source': 'RefSeq', 'accession': ''}\n",
      "exon {'source': 'RefSeq', 'accession': ''}\n",
      "{'source': 'Ensembl', 'accession': 'ENSE00003500023'}\n",
      "exon {'source': 'Ensembl', 'accession': 'ENSE00003500023'}\n",
      "{'source': 'Ensembl', 'accession': 'ENSE00003684820'}\n",
      "exon {'source': 'Ensembl', 'accession': 'ENSE00003684820'}\n",
      "{'source': 'Ensembl', 'accession': 'ENSE00002511393'}\n",
      "exon {'source': 'Ensembl', 'accession': 'ENSE00002511393'}\n",
      "{'source': 'Ensembl', 'accession': 'ENSE00002515122'}\n",
      "exon {'source': 'Ensembl', 'accession': 'ENSE00002515122'}\n",
      "{'source': 'Ensembl', 'accession': 'ENSE00000819877'}\n",
      "exon {'source': 'Ensembl', 'accession': 'ENSE00000819877'}\n",
      "{'source': 'Ensembl', 'accession': 'ENSE00000736713'}\n",
      "exon {'source': 'Ensembl', 'accession': 'ENSE00000736713'}\n",
      "{'source': 'Ensembl', 'accession': 'ENSE00003502401'}\n",
      "exon {'source': 'Ensembl', 'accession': 'ENSE00003502401'}\n",
      "{'source': 'Ensembl', 'accession': 'ENSE00003621866'}\n",
      "exon {'source': 'Ensembl', 'accession': 'ENSE00003621866'}\n",
      "{'source': 'Ensembl', 'accession': 'ENSE00003586134'}\n",
      "exon {'source': 'Ensembl', 'accession': 'ENSE00003586134'}\n",
      "{'source': 'Ensembl', 'accession': 'ENSE00003520533'}\n",
      "exon {'source': 'Ensembl', 'accession': 'ENSE00003520533'}\n",
      "{'source': 'Ensembl', 'accession': 'ENSE00003541153'}\n",
      "exon {'source': 'Ensembl', 'accession': 'ENSE00003541153'}\n",
      "{'source': 'Ensembl', 'accession': 'ENSE00003458516'}\n",
      "exon {'source': 'Ensembl', 'accession': 'ENSE00003458516'}\n",
      "{'source': 'Ensembl', 'accession': 'ENSE00000736743'}\n",
      "exon {'source': 'Ensembl', 'accession': 'ENSE00000736743'}\n",
      "{'source': 'Ensembl', 'accession': 'ENSE00000736747'}\n",
      "exon {'source': 'Ensembl', 'accession': 'ENSE00000736747'}\n",
      "{'source': 'Ensembl', 'accession': 'ENSE00000736751'}\n",
      "exon {'source': 'Ensembl', 'accession': 'ENSE00000736751'}\n",
      "{'source': 'Ensembl', 'accession': 'ENSE00002214498'}\n",
      "exon {'source': 'Ensembl', 'accession': 'ENSE00002214498'}\n",
      "{'source': 'Ensembl', 'accession': 'ENSE00003527609'}\n",
      "exon {'source': 'Ensembl', 'accession': 'ENSE00003527609'}\n",
      "{'source': 'Ensembl', 'accession': 'ENSE00003639585'}\n",
      "exon {'source': 'Ensembl', 'accession': 'ENSE00003639585'}\n",
      "{'source': 'Ensembl', 'accession': 'ENSE00003603314'}\n",
      "exon {'source': 'Ensembl', 'accession': 'ENSE00003603314'}\n",
      "{'source': 'Ensembl', 'accession': 'ENSE00003614903'}\n",
      "exon {'source': 'Ensembl', 'accession': 'ENSE00003614903'}\n",
      "{'source': 'Ensembl', 'accession': 'ENSE00003472408'}\n",
      "exon {'source': 'Ensembl', 'accession': 'ENSE00003472408'}\n",
      "{'source': 'Ensembl', 'accession': 'ENSE00003528010'}\n",
      "exon {'source': 'Ensembl', 'accession': 'ENSE00003528010'}\n",
      "{'source': 'Ensembl', 'accession': 'ENSE00003471690'}\n",
      "exon {'source': 'Ensembl', 'accession': 'ENSE00003471690'}\n",
      "{'source': 'Ensembl', 'accession': 'ENSE00003468021'}\n",
      "exon {'source': 'Ensembl', 'accession': 'ENSE00003468021'}\n",
      "{'source': 'Ensembl', 'accession': 'ENSE00000736786'}\n",
      "exon {'source': 'Ensembl', 'accession': 'ENSE00000736786'}\n",
      "{'source': 'Ensembl', 'accession': 'ENSE00003497522'}\n",
      "exon {'source': 'Ensembl', 'accession': 'ENSE00003497522'}\n",
      "{'source': 'Ensembl', 'accession': 'ENSE00003685723'}\n",
      "exon {'source': 'Ensembl', 'accession': 'ENSE00003685723'}\n",
      "{'source': 'Ensembl', 'accession': 'ENSE00003501696'}\n",
      "exon {'source': 'Ensembl', 'accession': 'ENSE00003501696'}\n",
      "{'source': 'Ensembl', 'accession': 'ENSE00003626685'}\n",
      "exon {'source': 'Ensembl', 'accession': 'ENSE00003626685'}\n",
      "{'source': 'Ensembl', 'accession': 'ENSE00003465830'}\n",
      "exon {'source': 'Ensembl', 'accession': 'ENSE00003465830'}\n",
      "{'source': 'Ensembl', 'accession': 'ENSE00003581772'}\n",
      "exon {'source': 'Ensembl', 'accession': 'ENSE00003581772'}\n",
      "{'source': 'Ensembl', 'accession': 'ENSE00003665182'}\n",
      "exon {'source': 'Ensembl', 'accession': 'ENSE00003665182'}\n",
      "{'source': 'Ensembl', 'accession': 'ENSE00003634235'}\n",
      "exon {'source': 'Ensembl', 'accession': 'ENSE00003634235'}\n",
      "{'source': 'Ensembl', 'accession': 'ENSE00000736814'}\n",
      "exon {'source': 'Ensembl', 'accession': 'ENSE00000736814'}\n",
      "{'source': 'Ensembl', 'accession': 'ENSE00000736819'}\n",
      "exon {'source': 'Ensembl', 'accession': 'ENSE00000736819'}\n",
      "{'source': 'Ensembl', 'accession': 'ENSE00000736823'}\n",
      "exon {'source': 'Ensembl', 'accession': 'ENSE00000736823'}\n",
      "{'source': 'Ensembl', 'accession': 'ENSE00000736827'}\n",
      "exon {'source': 'Ensembl', 'accession': 'ENSE00000736827'}\n",
      "{'source': 'Ensembl', 'accession': 'ENSE00000736830'}\n",
      "exon {'source': 'Ensembl', 'accession': 'ENSE00000736830'}\n",
      "{'source': 'Ensembl', 'accession': 'ENSE00000736832'}\n",
      "exon {'source': 'Ensembl', 'accession': 'ENSE00000736832'}\n",
      "{'source': 'Ensembl', 'accession': 'ENSE00000736834'}\n",
      "exon {'source': 'Ensembl', 'accession': 'ENSE00000736834'}\n",
      "{'source': 'Ensembl', 'accession': 'ENSE00000736836'}\n",
      "exon {'source': 'Ensembl', 'accession': 'ENSE00000736836'}\n",
      "{'source': 'Ensembl', 'accession': 'ENSE00000736838'}\n",
      "exon {'source': 'Ensembl', 'accession': 'ENSE00000736838'}\n",
      "{'source': 'Ensembl', 'accession': 'ENSE00000736840'}\n",
      "exon {'source': 'Ensembl', 'accession': 'ENSE00000736840'}\n",
      "{'source': 'Ensembl', 'accession': 'ENSE00000736842'}\n",
      "exon {'source': 'Ensembl', 'accession': 'ENSE00000736842'}\n",
      "{'source': 'Ensembl', 'accession': 'ENSE00003284476'}\n",
      "exon {'source': 'Ensembl', 'accession': 'ENSE00003284476'}\n",
      "{'source': 'Ensembl', 'accession': 'ENSE00003432012'}\n",
      "exon {'source': 'Ensembl', 'accession': 'ENSE00003432012'}\n",
      "{'source': 'Ensembl', 'accession': 'ENSE00001594859'}\n",
      "exon {'source': 'Ensembl', 'accession': 'ENSE00001594859'}\n",
      "{'source': 'Ensembl', 'accession': 'ENSE00000736851'}\n",
      "exon {'source': 'Ensembl', 'accession': 'ENSE00000736851'}\n",
      "{'source': 'Ensembl', 'accession': 'ENSE00000736853'}\n",
      "exon {'source': 'Ensembl', 'accession': 'ENSE00000736853'}\n",
      "{'source': 'Ensembl', 'accession': 'ENSE00000736855'}\n",
      "exon {'source': 'Ensembl', 'accession': 'ENSE00000736855'}\n",
      "{'source': 'Ensembl', 'accession': 'ENSE00001132088'}\n",
      "exon {'source': 'Ensembl', 'accession': 'ENSE00001132088'}\n",
      "{'source': 'Ensembl', 'accession': 'ENSE00003563527'}\n",
      "exon {'source': 'Ensembl', 'accession': 'ENSE00003563527'}\n",
      "{'source': 'Ensembl', 'accession': 'ENSE00003592169'}\n",
      "exon {'source': 'Ensembl', 'accession': 'ENSE00003592169'}\n",
      "{'source': 'Ensembl', 'accession': 'ENSE00001834784'}\n",
      "exon {'source': 'Ensembl', 'accession': 'ENSE00001834784'}\n",
      "{'source': 'Ensembl', 'accession': 'ENSE00001956725'}\n",
      "exon {'source': 'Ensembl', 'accession': 'ENSE00001956725'}\n",
      "{'source': 'Ensembl', 'accession': 'ENSE00002046241'}\n",
      "exon {'source': 'Ensembl', 'accession': 'ENSE00002046241'}\n",
      "{'source': 'Ensembl', 'accession': 'ENSE00002511393'}\n",
      "exon {'source': 'Ensembl', 'accession': 'ENSE00002511393'}\n",
      "{'source': 'Ensembl', 'accession': 'ENSE00002515122'}\n",
      "exon {'source': 'Ensembl', 'accession': 'ENSE00002515122'}\n",
      "{'source': 'Ensembl', 'accession': 'ENSE00002060645'}\n",
      "exon {'source': 'Ensembl', 'accession': 'ENSE00002060645'}\n",
      "{'source': 'Ensembl', 'accession': 'ENSE00001925128'}\n",
      "exon {'source': 'Ensembl', 'accession': 'ENSE00001925128'}\n",
      "{'source': 'Ensembl', 'accession': 'ENSE00003636897'}\n",
      "exon {'source': 'Ensembl', 'accession': 'ENSE00003636897'}\n",
      "{'source': 'Ensembl', 'accession': 'ENSE00003490629'}\n",
      "exon {'source': 'Ensembl', 'accession': 'ENSE00003490629'}\n",
      "{'source': 'Ensembl', 'accession': 'ENSE00003667843'}\n",
      "exon {'source': 'Ensembl', 'accession': 'ENSE00003667843'}\n",
      "{'source': 'Ensembl', 'accession': 'ENSE00003494530'}\n",
      "exon {'source': 'Ensembl', 'accession': 'ENSE00003494530'}\n",
      "{'source': 'Ensembl', 'accession': 'ENSE00003537550'}\n",
      "exon {'source': 'Ensembl', 'accession': 'ENSE00003537550'}\n",
      "{'source': 'Ensembl', 'accession': 'ENSE00003472271'}\n",
      "exon {'source': 'Ensembl', 'accession': 'ENSE00003472271'}\n",
      "{'source': 'Ensembl', 'accession': 'ENSE00002475518'}\n",
      "exon {'source': 'Ensembl', 'accession': 'ENSE00002475518'}\n",
      "{'source': 'Ensembl', 'accession': 'ENSE00001819095'}\n",
      "exon {'source': 'Ensembl', 'accession': 'ENSE00001819095'}\n",
      "{'source': 'Ensembl', 'accession': 'ENSE00001947600'}\n",
      "exon {'source': 'Ensembl', 'accession': 'ENSE00001947600'}\n",
      "{'source': 'Ensembl', 'accession': 'ENSE00003652997'}\n",
      "exon {'source': 'Ensembl', 'accession': 'ENSE00003652997'}\n",
      "{'source': 'Ensembl', 'accession': 'ENSE00003542252'}\n",
      "exon {'source': 'Ensembl', 'accession': 'ENSE00003542252'}\n",
      "{'source': 'Ensembl', 'accession': 'ENSE00003487530'}\n",
      "exon {'source': 'Ensembl', 'accession': 'ENSE00003487530'}\n",
      "{'source': 'Ensembl', 'accession': 'ENSE00003602711'}\n",
      "exon {'source': 'Ensembl', 'accession': 'ENSE00003602711'}\n",
      "{'source': 'Ensembl', 'accession': 'ENSE00003649175'}\n",
      "exon {'source': 'Ensembl', 'accession': 'ENSE00003649175'}\n",
      "{'source': 'Ensembl', 'accession': 'ENSE00003614345'}\n",
      "exon {'source': 'Ensembl', 'accession': 'ENSE00003614345'}\n",
      "{'source': 'Ensembl', 'accession': 'ENSE00003556583'}\n",
      "exon {'source': 'Ensembl', 'accession': 'ENSE00003556583'}\n",
      "{'source': 'Ensembl', 'accession': 'ENSE00001864408'}\n",
      "exon {'source': 'Ensembl', 'accession': 'ENSE00001864408'}\n",
      "{'source': 'Ensembl', 'accession': 'ENSE00002471171'}\n",
      "exon {'source': 'Ensembl', 'accession': 'ENSE00002471171'}\n",
      "{'source': 'Ensembl', 'accession': 'ENSE00003467192'}\n",
      "exon {'source': 'Ensembl', 'accession': 'ENSE00003467192'}\n",
      "{'source': 'Ensembl', 'accession': 'ENSE00001832962'}\n",
      "exon {'source': 'Ensembl', 'accession': 'ENSE00001832962'}\n",
      "{'source': 'Ensembl', 'accession': 'ENSE00001814863'}\n",
      "exon {'source': 'Ensembl', 'accession': 'ENSE00001814863'}\n",
      "{'source': 'Ensembl', 'accession': 'ENSE00003693657'}\n",
      "exon {'source': 'Ensembl', 'accession': 'ENSE00003693657'}\n",
      "{'source': 'Ensembl', 'accession': 'ENSE00003657422'}\n",
      "exon {'source': 'Ensembl', 'accession': 'ENSE00003657422'}\n",
      "{'source': 'Ensembl', 'accession': 'ENSE00003690889'}\n",
      "exon {'source': 'Ensembl', 'accession': 'ENSE00003690889'}\n",
      "{'source': 'Ensembl', 'accession': 'ENSE00003466220'}\n",
      "exon {'source': 'Ensembl', 'accession': 'ENSE00003466220'}\n",
      "{'source': 'Ensembl', 'accession': 'ENSE00003616509'}\n",
      "exon {'source': 'Ensembl', 'accession': 'ENSE00003616509'}\n",
      "{'source': 'Ensembl', 'accession': 'ENSE00003573617'}\n",
      "exon {'source': 'Ensembl', 'accession': 'ENSE00003573617'}\n",
      "{'source': 'Ensembl', 'accession': 'ENSE00003500083'}\n",
      "exon {'source': 'Ensembl', 'accession': 'ENSE00003500083'}\n",
      "{'source': 'Ensembl', 'accession': 'ENSE00002492511'}\n",
      "exon {'source': 'Ensembl', 'accession': 'ENSE00002492511'}\n",
      "{'source': 'Ensembl', 'accession': 'ENSE00002087224'}\n",
      "exon {'source': 'Ensembl', 'accession': 'ENSE00002087224'}\n",
      "{'source': 'Ensembl', 'accession': 'ENSE00002048881'}\n",
      "exon {'source': 'Ensembl', 'accession': 'ENSE00002048881'}\n",
      "{'source': 'Ensembl', 'accession': 'ENSE00003645412'}\n",
      "exon {'source': 'Ensembl', 'accession': 'ENSE00003645412'}\n",
      "{'source': 'Ensembl', 'accession': 'ENSE00001847864'}\n",
      "exon {'source': 'Ensembl', 'accession': 'ENSE00001847864'}\n",
      "{'source': 'Ensembl', 'accession': 'ENSE00002027185'}\n",
      "exon {'source': 'Ensembl', 'accession': 'ENSE00002027185'}\n",
      "{'source': 'Ensembl', 'accession': 'ENSE00002019786'}\n",
      "exon {'source': 'Ensembl', 'accession': 'ENSE00002019786'}\n",
      "{'source': 'Ensembl', 'accession': 'ENSE00001898504'}\n",
      "exon {'source': 'Ensembl', 'accession': 'ENSE00001898504'}\n",
      "{'source': 'Ensembl', 'accession': 'ENSE00001827186'}\n",
      "exon {'source': 'Ensembl', 'accession': 'ENSE00001827186'}\n",
      "{'source': 'Ensembl', 'accession': 'ENSE00002046770'}\n",
      "exon {'source': 'Ensembl', 'accession': 'ENSE00002046770'}\n",
      "{'source': 'Ensembl', 'accession': 'ENSE00002038267'}\n",
      "exon {'source': 'Ensembl', 'accession': 'ENSE00002038267'}\n",
      "{}\n",
      "exon {}\n",
      "{}\n",
      "exon {}\n",
      "{}\n",
      "exon {}\n",
      "{}\n",
      "exon {}\n",
      "{}\n",
      "exon {}\n",
      "{}\n",
      "exon {}\n",
      "{}\n",
      "exon {}\n",
      "{}\n",
      "exon {}\n",
      "{}\n",
      "exon {}\n",
      "{}\n",
      "exon {}\n",
      "{}\n",
      "exon {}\n",
      "{}\n",
      "exon {}\n",
      "{}\n",
      "exon {}\n",
      "{}\n",
      "exon {}\n",
      "{}\n",
      "exon {}\n",
      "{}\n",
      "exon {}\n",
      "{}\n",
      "exon {}\n",
      "{}\n",
      "exon {}\n",
      "{}\n",
      "exon {}\n",
      "{}\n",
      "exon {}\n",
      "{}\n",
      "exon {}\n",
      "{}\n",
      "exon {}\n",
      "{}\n",
      "exon {}\n",
      "{}\n",
      "exon {}\n",
      "{}\n",
      "exon {}\n",
      "{}\n",
      "exon {}\n",
      "{}\n",
      "exon {}\n",
      "{}\n",
      "exon {}\n",
      "{}\n",
      "exon {}\n",
      "{}\n",
      "exon {}\n",
      "{}\n",
      "exon {}\n",
      "{}\n",
      "exon {}\n",
      "{}\n",
      "exon {}\n",
      "{}\n",
      "exon {}\n",
      "{}\n",
      "exon {}\n",
      "{}\n",
      "exon {}\n",
      "{}\n",
      "exon {}\n",
      "{}\n",
      "exon {}\n",
      "{}\n",
      "exon {}\n",
      "{}\n",
      "exon {}\n",
      "{}\n",
      "exon {}\n",
      "{}\n",
      "exon {}\n",
      "{}\n",
      "exon {}\n",
      "{}\n",
      "exon {}\n",
      "{}\n",
      "exon {}\n",
      "{}\n",
      "exon {}\n",
      "{}\n",
      "exon {}\n",
      "{}\n",
      "exon {}\n",
      "{}\n",
      "exon {}\n",
      "{}\n",
      "exon {}\n",
      "{}\n",
      "exon {}\n"
     ]
    }
   ],
   "source": [
    "for exon in root.iter('exon'):\n",
    "    print (exon.attrib)\n",
    "\n",
    "    #rank = country.find('rank').text\n",
    "    #start = exon.find('start')\n",
    "    #print (start)"
   ]
  },
  {
   "cell_type": "code",
   "execution_count": 252,
   "metadata": {
    "collapsed": false
   },
   "outputs": [
    {
     "name": "stdout",
     "output_type": "stream",
     "text": [
      "coordinates {'coord_system': 'LRG_1', 'end': '5229', 'strand': '1', 'start': '5001'}\n",
      "coordinates {'coord_system': 'LRG_1t1', 'end': '229', 'start': '1'}\n",
      "coordinates {'coord_system': 'LRG_1p1', 'end': '35', 'start': '1'}\n"
     ]
    }
   ],
   "source": [
    "for child in exon_info:\n",
    "    print (child.tag, child.attrib)\n",
    "    #rank = country.find('rank').text\n",
    "    #start = exon.find('start')\n",
    "    #print (start)"
   ]
  },
  {
   "cell_type": "code",
   "execution_count": 197,
   "metadata": {
    "collapsed": false
   },
   "outputs": [
    {
     "name": "stdout",
     "output_type": "stream",
     "text": [
      "GRCh37.p13 17 NC_000017.10 48259457 48284000\n",
      "GRCh38.p7 17 NC_000017.11 50182096 50206639\n"
     ]
    }
   ],
   "source": [
    "#for annotation in up_anno.findall('annotation_set'):\n",
    "for annotation in up_anno[1].findall('mapping'):\n",
    "    #GHC = annotation.find('rank').text\n",
    "    #name = annotation.get('type')\n",
    "    coord = annotation.get('coord_system')\n",
    "    chro = annotation.get('other_name')\n",
    "    NC_trans = annotation.get('other_id')\n",
    "    gstart = annotation.get('other_start')\n",
    "    gend = annotation.get('other_end')\n",
    "    print (coord, chro, NC_trans, gstart, gend, )\n",
    "    "
   ]
  },
  {
   "cell_type": "code",
   "execution_count": 197,
   "metadata": {
    "collapsed": false
   },
   "outputs": [
    {
     "name": "stdout",
     "output_type": "stream",
     "text": [
      "GRCh37.p13 17 NC_000017.10 48259457 48284000\n",
      "GRCh38.p7 17 NC_000017.11 50182096 50206639\n"
     ]
    }
   ],
   "source": [
    "#for annotation in up_anno.findall('annotation_set'):\n",
    "for annotation in up_anno[1].findall('mapping'):\n",
    "    #GHC = annotation.find('rank').text\n",
    "    #name = annotation.get('type')\n",
    "    coord = annotation.get('coord_system')\n",
    "    chro = annotation.get('other_name')\n",
    "    NC_trans = annotation.get('other_id')\n",
    "    gstart = annotation.get('other_start')\n",
    "    gend = annotation.get('other_end')\n",
    "    print (coord, chro, NC_trans, gstart, gend, )\n",
    "    "
   ]
  },
  {
   "cell_type": "code",
   "execution_count": 202,
   "metadata": {
    "collapsed": false
   },
   "outputs": [
    {
     "name": "stdout",
     "output_type": "stream",
     "text": [
      "-1 1 24544 48259457 48284000\n"
     ]
    }
   ],
   "source": [
    "for annotation in up_anno[1][2].findall('mapping_span'):\n",
    "    #GHC = annotation.find('rank').text\n",
    "    #name = annotation.get('type')\n",
    "    strand = annotation.get('strand')\n",
    "    lrg_start = annotation.get('lrg_start')\n",
    "    lrg_end = annotation.get('lrg_end')\n",
    "    lrg_gstart = annotation.get('other_start')\n",
    "    lrg_gend = annotation.get('other_end')\n",
    "    print (strand, lrg_start, lrg_end,  lrg_gstart, lrg_gend )\n",
    "    #print (\"Hello\")"
   ]
  },
  {
   "cell_type": "code",
   "execution_count": 204,
   "metadata": {
    "collapsed": false
   },
   "outputs": [
    {
     "name": "stdout",
     "output_type": "stream",
     "text": [
      "-1 1 24544 50182096 50206639\n"
     ]
    }
   ],
   "source": [
    "for annotation in up_anno[1][3].findall('mapping_span'):\n",
    "    #GHC = annotation.find('rank').text\n",
    "    #name = annotation.get('type')\n",
    "    strand = annotation.get('strand')\n",
    "    lrg_start = annotation.get('lrg_start')\n",
    "    lrg_end = annotation.get('lrg_end')\n",
    "    lrg_gstart = annotation.get('other_start')\n",
    "    lrg_gend = annotation.get('other_end')\n",
    "    print (strand, lrg_start, lrg_end,  lrg_gstart, lrg_gend )\n",
    "for fi    #print (\"Hello\")"
   ]
  },
  {
   "cell_type": "code",
   "execution_count": 284,
   "metadata": {
    "collapsed": false
   },
   "outputs": [
    {
     "name": "stdout",
     "output_type": "stream",
     "text": [
      "[[{'label': '1'}, {'coord_system': 'LRG_1', 'end': '5229', 'strand': '1', 'start': '5001'}, {'name': 't1'}], [{'label': '1'}, {'coord_system': 'LRG_1', 'end': '6887', 'strand': '1', 'start': '6693'}, {'name': 't1'}], [{'label': '1'}, {'coord_system': 'LRG_1', 'end': '7084', 'strand': '1', 'start': '7050'}, {'name': 't1'}], [{'label': '1'}, {'coord_system': 'LRG_1', 'end': '7222', 'strand': '1', 'start': '7187'}, {'name': 't1'}], [{'label': '1'}, {'coord_system': 'LRG_1', 'end': '7414', 'strand': '1', 'start': '7313'}, {'name': 't1'}], [{'label': '1'}, {'coord_system': 'LRG_1', 'end': '8207', 'strand': '1', 'start': '8136'}, {'name': 't1'}], [{'label': '1'}, {'coord_system': 'LRG_1', 'end': '8479', 'strand': '1', 'start': '8435'}, {'name': 't1'}], [{'label': '1'}, {'coord_system': 'LRG_1', 'end': '8691', 'strand': '1', 'start': '8638'}, {'name': 't1'}], [{'label': '1'}, {'coord_system': 'LRG_1', 'end': '8908', 'strand': '1', 'start': '8855'}, {'name': 't1'}], [{'label': '1'}, {'coord_system': 'LRG_1', 'end': '9460', 'strand': '1', 'start': '9407'}, {'name': 't1'}], [{'label': '1'}, {'coord_system': 'LRG_1', 'end': '9630', 'strand': '1', 'start': '9577'}, {'name': 't1'}], [{'label': '1'}, {'coord_system': 'LRG_1', 'end': '10023', 'strand': '1', 'start': '9970'}, {'name': 't1'}], [{'label': '1'}, {'coord_system': 'LRG_1', 'end': '10156', 'strand': '1', 'start': '10112'}, {'name': 't1'}], [{'label': '1'}, {'coord_system': 'LRG_1', 'end': '10326', 'strand': '1', 'start': '10273'}, {'name': 't1'}], [{'label': '1'}, {'coord_system': 'LRG_1', 'end': '10485', 'strand': '1', 'start': '10441'}, {'name': 't1'}], [{'label': '1'}, {'coord_system': 'LRG_1', 'end': '10717', 'strand': '1', 'start': '10664'}, {'name': 't1'}], [{'label': '1'}, {'coord_system': 'LRG_1', 'end': '11073', 'strand': '1', 'start': '10975'}, {'name': 't1'}], [{'label': '1'}, {'coord_system': 'LRG_1', 'end': '11206', 'strand': '1', 'start': '11162'}, {'name': 't1'}], [{'label': '1'}, {'coord_system': 'LRG_1', 'end': '11408', 'strand': '1', 'start': '11310'}, {'name': 't1'}], [{'label': '1'}, {'coord_system': 'LRG_1', 'end': '11593', 'strand': '1', 'start': '11540'}, {'name': 't1'}], [{'label': '1'}, {'coord_system': 'LRG_1', 'end': '11919', 'strand': '1', 'start': '11812'}, {'name': 't1'}], [{'label': '1'}, {'coord_system': 'LRG_1', 'end': '12067', 'strand': '1', 'start': '12014'}, {'name': 't1'}], [{'label': '1'}, {'coord_system': 'LRG_1', 'end': '12291', 'strand': '1', 'start': '12193'}, {'name': 't1'}], [{'label': '1'}, {'coord_system': 'LRG_1', 'end': '12510', 'strand': '1', 'start': '12457'}, {'name': 't1'}], [{'label': '1'}, {'coord_system': 'LRG_1', 'end': '12697', 'strand': '1', 'start': '12599'}, {'name': 't1'}], [{'label': '1'}, {'coord_system': 'LRG_1', 'end': '13646', 'strand': '1', 'start': '13593'}, {'name': 't1'}], [{'label': '1'}, {'coord_system': 'LRG_1', 'end': '13843', 'strand': '1', 'start': '13790'}, {'name': 't1'}], [{'label': '1'}, {'coord_system': 'LRG_1', 'end': '14000', 'strand': '1', 'start': '13947'}, {'name': 't1'}], [{'label': '1'}, {'coord_system': 'LRG_1', 'end': '14165', 'strand': '1', 'start': '14112'}, {'name': 't1'}], [{'label': '1'}, {'coord_system': 'LRG_1', 'end': '14660', 'strand': '1', 'start': '14616'}, {'name': 't1'}], [{'label': '1'}, {'coord_system': 'LRG_1', 'end': '14852', 'strand': '1', 'start': '14754'}, {'name': 't1'}], [{'label': '1'}, {'coord_system': 'LRG_1', 'end': '15257', 'strand': '1', 'start': '15150'}, {'name': 't1'}], [{'label': '1'}, {'coord_system': 'LRG_1', 'end': '15823', 'strand': '1', 'start': '15716'}, {'name': 't1'}], [{'label': '1'}, {'coord_system': 'LRG_1', 'end': '16097', 'strand': '1', 'start': '16044'}, {'name': 't1'}], [{'label': '1'}, {'coord_system': 'LRG_1', 'end': '16313', 'strand': '1', 'start': '16260'}, {'name': 't1'}], [{'label': '1'}, {'coord_system': 'LRG_1', 'end': '16639', 'strand': '1', 'start': '16532'}, {'name': 't1'}], [{'label': '1'}, {'coord_system': 'LRG_1', 'end': '16781', 'strand': '1', 'start': '16728'}, {'name': 't1'}], [{'label': '1'}, {'coord_system': 'LRG_1', 'end': '16961', 'strand': '1', 'start': '16908'}, {'name': 't1'}], [{'label': '1'}, {'coord_system': 'LRG_1', 'end': '17263', 'strand': '1', 'start': '17102'}, {'name': 't1'}], [{'label': '1'}, {'coord_system': 'LRG_1', 'end': '17472', 'strand': '1', 'start': '17365'}, {'name': 't1'}], [{'label': '1'}, {'coord_system': 'LRG_1', 'end': '17737', 'strand': '1', 'start': '17630'}, {'name': 't1'}], [{'label': '1'}, {'coord_system': 'LRG_1', 'end': '17898', 'strand': '1', 'start': '17845'}, {'name': 't1'}], [{'label': '1'}, {'coord_system': 'LRG_1', 'end': '18110', 'strand': '1', 'start': '18003'}, {'name': 't1'}], [{'label': '1'}, {'coord_system': 'LRG_1', 'end': '18544', 'strand': '1', 'start': '18491'}, {'name': 't1'}], [{'label': '1'}, {'coord_system': 'LRG_1', 'end': '18764', 'strand': '1', 'start': '18657'}, {'name': 't1'}], [{'label': '1'}, {'coord_system': 'LRG_1', 'end': '19156', 'strand': '1', 'start': '19103'}, {'name': 't1'}], [{'label': '1'}, {'coord_system': 'LRG_1', 'end': '19625', 'strand': '1', 'start': '19518'}, {'name': 't1'}], [{'label': '1'}, {'coord_system': 'LRG_1', 'end': '20000', 'strand': '1', 'start': '19718'}, {'name': 't1'}], [{'label': '1'}, {'coord_system': 'LRG_1', 'end': '20323', 'strand': '1', 'start': '20133'}, {'name': 't1'}], [{'label': '1'}, {'coord_system': 'LRG_1', 'end': '20862', 'strand': '1', 'start': '20620'}, {'name': 't1'}], [{'label': '1'}, {'coord_system': 'LRG_1', 'end': '22544', 'strand': '1', 'start': '20992'}, {'name': 't1'}]]\n"
     ]
    }
   ],
   "source": [
    "all_exons= []\n",
    "\n",
    "for transcript in root.findall ('fixed_annotation/transcript'):\n",
    "    transcript_name = transcript.attrib\n",
    "        \n",
    "    for exons in transcript.findall('exon'):\n",
    "        exon_label = exon.attrib\n",
    "        list_coord = exons.findall('coordinates')\n",
    "        coordinates = list_coord[0].attrib\n",
    "\n",
    "        all_exons.append([exon_label, coordinates, transcript_name])\n",
    "            \n",
    "print (all_exons)"
   ]
  },
  {
   "cell_type": "code",
   "execution_count": null,
   "metadata": {
    "collapsed": false
   },
   "outputs": [],
   "source": [
    "for exon in root.iter('exon'):\n",
    "    print (exon.attrib)\n",
    "    \n",
    "#for exons in transcript.findall('exon'):\n",
    "        #exon_label = exon.attrib\n",
    "        #list_coord = exons.findall('coordinates')\n",
    "        #coordinates = list_coord[0].attrib\n",
    "        #print (exon_label)"
   ]
  },
  {
   "cell_type": "code",
   "execution_count": 308,
   "metadata": {
    "collapsed": false
   },
   "outputs": [
    {
     "name": "stdout",
     "output_type": "stream",
     "text": [
      "None None None None None\n",
      "None None None None None\n",
      "None None None None None\n",
      "1 5001 5229 1 229\n",
      "1 6693 6887 230 424\n",
      "1 7050 7084 425 459\n",
      "1 7187 7222 460 495\n",
      "1 7313 7414 496 597\n",
      "1 8136 8207 598 669\n",
      "1 8435 8479 670 714\n",
      "1 8638 8691 715 768\n",
      "1 8855 8908 769 822\n",
      "1 9407 9460 823 876\n",
      "1 9577 9630 877 930\n",
      "1 9970 10023 931 984\n",
      "1 10112 10156 985 1029\n",
      "1 10273 10326 1030 1083\n",
      "1 10441 10485 1084 1128\n",
      "1 10664 10717 1129 1182\n",
      "1 10975 11073 1183 1281\n",
      "1 11162 11206 1282 1326\n",
      "1 11310 11408 1327 1425\n",
      "1 11540 11593 1426 1479\n",
      "1 11812 11919 1480 1587\n",
      "1 12014 12067 1588 1641\n",
      "1 12193 12291 1642 1740\n",
      "1 12457 12510 1741 1794\n",
      "1 12599 12697 1795 1893\n",
      "1 13593 13646 1894 1947\n",
      "1 13790 13843 1948 2001\n",
      "1 13947 14000 2002 2055\n",
      "1 14112 14165 2056 2109\n",
      "1 14616 14660 2110 2154\n",
      "1 14754 14852 2155 2253\n",
      "1 15150 15257 2254 2361\n",
      "1 15716 15823 2362 2469\n",
      "1 16044 16097 2470 2523\n",
      "1 16260 16313 2524 2577\n",
      "1 16532 16639 2578 2685\n",
      "1 16728 16781 2686 2739\n",
      "1 16908 16961 2740 2793\n",
      "1 17102 17263 2794 2955\n",
      "1 17365 17472 2956 3063\n",
      "1 17630 17737 3064 3171\n",
      "1 17845 17898 3172 3225\n",
      "1 18003 18110 3226 3333\n",
      "1 18491 18544 3334 3387\n",
      "1 18657 18764 3388 3495\n",
      "1 19103 19156 3496 3549\n",
      "1 19518 19625 3550 3657\n",
      "1 19718 20000 3658 3940\n",
      "1 20133 20323 3941 4131\n",
      "1 20620 20862 4132 4374\n",
      "1 20992 22544 4375 5927\n",
      "None None None None None\n"
     ]
    }
   ],
   "source": [
    "#for annotation in up_anno.iter('mapping_span'):\n",
    "    \n",
    "for annotation in up_anno:   \n",
    "    if annotation.attrib['type']=='lrg':\n",
    "    #if mapping.attrib.get('type')=='transcript':\n",
    "        #for ('./mapping/mapping_span') in annotation:\n",
    "        for mapping in annotation:\n",
    "            for ms in mapping:\n",
    "                strand = ms.get('strand')\n",
    "                lrg_start = ms.get('lrg_start')\n",
    "                lrg_end = ms.get('lrg_end')\n",
    "                lrg_gstart = ms.get('other_start')\n",
    "                lrg_gend = ms.get('other_end')\n",
    "                print (strand, lrg_start, lrg_end,  lrg_gstart, lrg_gend )\n"
   ]
  },
  {
   "cell_type": "code",
   "execution_count": null,
   "metadata": {
    "collapsed": true
   },
   "outputs": [],
   "source": []
  }
 ],
 "metadata": {
  "anaconda-cloud": {},
  "kernelspec": {
   "display_name": "Python [default]",
   "language": "python",
   "name": "python3"
  },
  "language_info": {
   "codemirror_mode": {
    "name": "ipython",
    "version": 3
   },
   "file_extension": ".py",
   "mimetype": "text/x-python",
   "name": "python",
   "nbconvert_exporter": "python",
   "pygments_lexer": "ipython3",
   "version": "3.5.2"
  }
 },
 "nbformat": 4,
 "nbformat_minor": 1
}
