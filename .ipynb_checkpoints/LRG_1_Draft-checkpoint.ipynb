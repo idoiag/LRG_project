{
 "cells": [
  {
   "cell_type": "code",
   "execution_count": 42,
   "metadata": {
    "collapsed": false
   },
   "outputs": [],
   "source": [
    "# this could be used to extract info from a webpage. Not necessary because labs will usually have \n",
    "# the info saved\n",
    "\n",
    "from urllib.request import urlopen\n",
    "\n",
    "LRG = \"LRG_1\"\n",
    "page = \"http://ftp.ebi.ac.uk/pub/databases/lrgex/\" + LRG + \".xml\"\n",
    "\n",
    "URL_xml = urlopen(page)\n",
    "xml = URL_xml.read()\n",
    "#print (xml)"
   ]
  },
  {
   "cell_type": "code",
   "execution_count": 40,
   "metadata": {
    "collapsed": false
   },
   "outputs": [],
   "source": [
    "import xml.etree.ElementTree as ET\n",
    "tree = ET.parse('LRG_1.xml')\n",
    "root = tree.getroot()"
   ]
  },
  {
   "cell_type": "code",
   "execution_count": 67,
   "metadata": {
    "collapsed": false
   },
   "outputs": [
    {
     "name": "stdout",
     "output_type": "stream",
     "text": [
      "root subelements  [<Element 'fixed_annotation' at 0x000001E5674C0B88>, <Element 'updatable_annotation' at 0x000001E5675324A8>]\n",
      "\n",
      "root subelements fixed  [<Element 'id' at 0x000001E5674C0BD8>, <Element 'hgnc_id' at 0x000001E5674C0C28>, <Element 'sequence_source' at 0x000001E5674C0C78>, <Element 'organism' at 0x000001E5674C0CC8>, <Element 'source' at 0x000001E5674C0D18>, <Element 'mol_type' at 0x000001E5674C0F98>, <Element 'creation_date' at 0x000001E567444048>, <Element 'sequence' at 0x000001E567444098>, <Element 'transcript' at 0x000001E5674440E8>]\n",
      "\n",
      "root subelements fixed_transcript  [<Element 'coordinates' at 0x000001E567444138>, <Element 'cdna' at 0x000001E567444188>, <Element 'coding_region' at 0x000001E567444228>, <Element 'exon' at 0x000001E567444368>, <Element 'intron' at 0x000001E5674444A8>, <Element 'exon' at 0x000001E5674444F8>, <Element 'intron' at 0x000001E567444638>, <Element 'exon' at 0x000001E567444688>, <Element 'intron' at 0x000001E5674447C8>, <Element 'exon' at 0x000001E567444818>, <Element 'intron' at 0x000001E567444958>, <Element 'exon' at 0x000001E5674449A8>, <Element 'intron' at 0x000001E567444AE8>, <Element 'exon' at 0x000001E567444B38>, <Element 'intron' at 0x000001E567444C78>, <Element 'exon' at 0x000001E567444CC8>, <Element 'intron' at 0x000001E567444E08>, <Element 'exon' at 0x000001E567444E58>, <Element 'intron' at 0x000001E567444F98>, <Element 'exon' at 0x000001E56751F048>, <Element 'intron' at 0x000001E56751F188>, <Element 'exon' at 0x000001E56751F1D8>, <Element 'intron' at 0x000001E56751F318>, <Element 'exon' at 0x000001E56751F368>, <Element 'intron' at 0x000001E56751F4A8>, <Element 'exon' at 0x000001E56751F4F8>, <Element 'intron' at 0x000001E56751F638>, <Element 'exon' at 0x000001E56751F688>, <Element 'intron' at 0x000001E56751F7C8>, <Element 'exon' at 0x000001E56751F818>, <Element 'intron' at 0x000001E56751F958>, <Element 'exon' at 0x000001E56751F9A8>, <Element 'intron' at 0x000001E56751FAE8>, <Element 'exon' at 0x000001E56751FB38>, <Element 'intron' at 0x000001E56751FC78>, <Element 'exon' at 0x000001E56751FCC8>, <Element 'intron' at 0x000001E56751FE08>, <Element 'exon' at 0x000001E56751FE58>, <Element 'intron' at 0x000001E56751FF98>, <Element 'exon' at 0x000001E567538048>, <Element 'intron' at 0x000001E567538188>, <Element 'exon' at 0x000001E5675381D8>, <Element 'intron' at 0x000001E567538318>, <Element 'exon' at 0x000001E567538368>, <Element 'intron' at 0x000001E5675384A8>, <Element 'exon' at 0x000001E5675384F8>, <Element 'intron' at 0x000001E567538638>, <Element 'exon' at 0x000001E567538688>, <Element 'intron' at 0x000001E5675387C8>, <Element 'exon' at 0x000001E567538818>, <Element 'intron' at 0x000001E567538958>, <Element 'exon' at 0x000001E5675389A8>, <Element 'intron' at 0x000001E567538AE8>, <Element 'exon' at 0x000001E567538B38>, <Element 'intron' at 0x000001E567538C78>, <Element 'exon' at 0x000001E567538CC8>, <Element 'intron' at 0x000001E567538E08>, <Element 'exon' at 0x000001E567538E58>, <Element 'intron' at 0x000001E567538F98>, <Element 'exon' at 0x000001E567539318>, <Element 'intron' at 0x000001E567539EA8>, <Element 'exon' at 0x000001E567539E58>, <Element 'intron' at 0x000001E567539D18>, <Element 'exon' at 0x000001E567539CC8>, <Element 'intron' at 0x000001E567539B88>, <Element 'exon' at 0x000001E567539B38>, <Element 'intron' at 0x000001E5675399F8>, <Element 'exon' at 0x000001E5675399A8>, <Element 'intron' at 0x000001E567539868>, <Element 'exon' at 0x000001E567539818>, <Element 'intron' at 0x000001E5675396D8>, <Element 'exon' at 0x000001E567539688>, <Element 'intron' at 0x000001E567539548>, <Element 'exon' at 0x000001E5675394F8>, <Element 'intron' at 0x000001E5675393B8>, <Element 'exon' at 0x000001E567539368>, <Element 'intron' at 0x000001E567539138>, <Element 'exon' at 0x000001E567539228>, <Element 'intron' at 0x000001E567539098>, <Element 'exon' at 0x000001E567536048>, <Element 'intron' at 0x000001E567536188>, <Element 'exon' at 0x000001E5675361D8>, <Element 'intron' at 0x000001E567536318>, <Element 'exon' at 0x000001E567536368>, <Element 'intron' at 0x000001E5675364A8>, <Element 'exon' at 0x000001E5675364F8>, <Element 'intron' at 0x000001E567536638>, <Element 'exon' at 0x000001E567536688>, <Element 'intron' at 0x000001E5675367C8>, <Element 'exon' at 0x000001E567536818>, <Element 'intron' at 0x000001E567536958>, <Element 'exon' at 0x000001E5675369A8>, <Element 'intron' at 0x000001E567536AE8>, <Element 'exon' at 0x000001E567536B38>, <Element 'intron' at 0x000001E567536C78>, <Element 'exon' at 0x000001E567536CC8>, <Element 'intron' at 0x000001E567536E08>, <Element 'exon' at 0x000001E567536E58>, <Element 'intron' at 0x000001E567536F98>, <Element 'exon' at 0x000001E567532048>, <Element 'intron' at 0x000001E567532188>, <Element 'exon' at 0x000001E5675321D8>, <Element 'intron' at 0x000001E567532318>, <Element 'exon' at 0x000001E567532368>]\n",
      "\n",
      "root subelements updatable [<Element 'annotation_set' at 0x000001E5675324F8>, <Element 'annotation_set' at 0x000001E567532818>, <Element 'annotation_set' at 0x000001E567532D68>, <Element 'annotation_set' at 0x000001E56750EAE8>, <Element 'annotation_set' at 0x000001E567553958>, <Element 'annotation_set' at 0x000001E567540E08>]\n",
      "\n",
      "root subelements updatable [<Element 'source' at 0x000001E567532868>, <Element 'modification_date' at 0x000001E567532B38>, <Element 'mapping' at 0x000001E567532B88>, <Element 'mapping' at 0x000001E567532C78>, <Element 'lrg_locus' at 0x000001E567532D18>]\n",
      "Build =  []\n"
     ]
    }
   ],
   "source": [
    "print (\"root subelements \", root.getchildren())\n",
    "print ()\n",
    "print (\"root subelements fixed \", root.getchildren()[0].getchildren())\n",
    "print ()\n",
    "print (\"root subelements fixed_transcript \", root.getchildren()[0].getchildren()[8].getchildren())\n",
    "print ()\n",
    "print (\"root subelements updatable\", root.getchildren()[1].getchildren()) \n",
    "print ()     \n",
    "print (\"root subelements updatable\", root.getchildren()[1].getchildren()[1].getchildren()) \n",
    "build = [updatable_annotation for updatable_annotation in root.findall('updatable_annotation') if updatable_annotation.findtext('annotation_set') == 'lrg']\n",
    "print (\"Build = \", build)\n"
   ]
  },
  {
   "cell_type": "code",
   "execution_count": null,
   "metadata": {
    "collapsed": true
   },
   "outputs": [],
   "source": []
  },
  {
   "cell_type": "code",
   "execution_count": 41,
   "metadata": {
    "collapsed": false
   },
   "outputs": [
    {
     "data": {
      "text/plain": [
       "'lrg'"
      ]
     },
     "execution_count": 41,
     "metadata": {},
     "output_type": "execute_result"
    }
   ],
   "source": [
    "root.tag"
   ]
  },
  {
   "cell_type": "code",
   "execution_count": 3,
   "metadata": {
    "collapsed": false
   },
   "outputs": [
    {
     "data": {
      "text/plain": [
       "{'schema_version': '1.9'}"
      ]
     },
     "execution_count": 3,
     "metadata": {},
     "output_type": "execute_result"
    }
   ],
   "source": [
    "root.attrib"
   ]
  },
  {
   "cell_type": "code",
   "execution_count": 12,
   "metadata": {
    "collapsed": false
   },
   "outputs": [
    {
     "data": {
      "text/plain": [
       "<Element 'updatable_annotation' at 0x0000016AFE626B38>"
      ]
     },
     "execution_count": 12,
     "metadata": {},
     "output_type": "execute_result"
    }
   ],
   "source": [
    "root[1]"
   ]
  },
  {
   "cell_type": "code",
   "execution_count": 4,
   "metadata": {
    "collapsed": false
   },
   "outputs": [
    {
     "name": "stdout",
     "output_type": "stream",
     "text": [
      "fixed_annotation {}\n",
      "updatable_annotation {}\n"
     ]
    }
   ],
   "source": [
    "for child in root:\n",
    "    print (child.tag, child.attrib)"
   ]
  },
  {
   "cell_type": "code",
   "execution_count": 31,
   "metadata": {
    "collapsed": false
   },
   "outputs": [
    {
     "name": "stdout",
     "output_type": "stream",
     "text": [
      "LRG_1\n",
      "NG_007400.1\n",
      "Homo sapiens\n",
      "Osteogenesis Imperfecta Variant Database - COL1A1\n",
      "dna\n",
      "2010-03-17\n",
      "<Element 'mapping' at 0x0000016AFE62C278>\n"
     ]
    }
   ],
   "source": [
    "#DONE: Obtain LRG_ID\n",
    "print (root[0][0].text)\n",
    "print (root[0][2].text)\n",
    "print (root[0][3].text)\n",
    "print (root[0][4][0].text)\n",
    "print (root[0][5].text)\n",
    "print (root[0][6].text)\n",
    "#print (root[0][7].text)\n",
    "print (root[1][1][2])\n",
    "#chr = country.get('other_name')"
   ]
  },
  {
   "cell_type": "code",
   "execution_count": 62,
   "metadata": {
    "collapsed": false
   },
   "outputs": [
    {
     "name": "stdout",
     "output_type": "stream",
     "text": [
      "{'label': '1'}\n",
      "{'label': '2'}\n",
      "{'label': '3'}\n",
      "{'label': '4'}\n",
      "{'label': '5'}\n",
      "{'label': '6'}\n",
      "{'label': '7'}\n",
      "{'label': '8'}\n",
      "{'label': '9'}\n",
      "{'label': '10'}\n",
      "{'label': '11'}\n",
      "{'label': '12'}\n",
      "{'label': '13'}\n",
      "{'label': '14'}\n",
      "{'label': '15'}\n",
      "{'label': '16'}\n",
      "{'label': '17'}\n",
      "{'label': '18'}\n",
      "{'label': '19'}\n",
      "{'label': '20'}\n",
      "{'label': '21'}\n",
      "{'label': '22'}\n",
      "{'label': '23'}\n",
      "{'label': '24'}\n",
      "{'label': '25'}\n",
      "{'label': '26'}\n",
      "{'label': '27'}\n",
      "{'label': '28'}\n",
      "{'label': '29'}\n",
      "{'label': '30'}\n",
      "{'label': '31'}\n",
      "{'label': '32'}\n",
      "{'label': '33'}\n",
      "{'label': '34'}\n",
      "{'label': '35'}\n",
      "{'label': '36'}\n",
      "{'label': '37'}\n",
      "{'label': '38'}\n",
      "{'label': '39'}\n",
      "{'label': '40'}\n",
      "{'label': '41'}\n",
      "{'label': '42'}\n",
      "{'label': '43'}\n",
      "{'label': '44'}\n",
      "{'label': '45'}\n",
      "{'label': '46'}\n",
      "{'label': '47'}\n",
      "{'label': '48'}\n",
      "{'label': '49'}\n",
      "{'label': '50'}\n",
      "{'label': '51'}\n",
      "{'accession': '', 'source': 'RefSeq'}\n",
      "{'accession': '', 'source': 'RefSeq'}\n",
      "{'accession': '', 'source': 'RefSeq'}\n",
      "{'accession': '', 'source': 'RefSeq'}\n",
      "{'accession': '', 'source': 'RefSeq'}\n",
      "{'accession': '', 'source': 'RefSeq'}\n",
      "{'accession': '', 'source': 'RefSeq'}\n",
      "{'accession': '', 'source': 'RefSeq'}\n",
      "{'accession': '', 'source': 'RefSeq'}\n",
      "{'accession': '', 'source': 'RefSeq'}\n",
      "{'accession': '', 'source': 'RefSeq'}\n",
      "{'accession': '', 'source': 'RefSeq'}\n",
      "{'accession': '', 'source': 'RefSeq'}\n",
      "{'accession': '', 'source': 'RefSeq'}\n",
      "{'accession': '', 'source': 'RefSeq'}\n",
      "{'accession': '', 'source': 'RefSeq'}\n",
      "{'accession': '', 'source': 'RefSeq'}\n",
      "{'accession': '', 'source': 'RefSeq'}\n",
      "{'accession': '', 'source': 'RefSeq'}\n",
      "{'accession': '', 'source': 'RefSeq'}\n",
      "{'accession': '', 'source': 'RefSeq'}\n",
      "{'accession': '', 'source': 'RefSeq'}\n",
      "{'accession': '', 'source': 'RefSeq'}\n",
      "{'accession': '', 'source': 'RefSeq'}\n",
      "{'accession': '', 'source': 'RefSeq'}\n",
      "{'accession': '', 'source': 'RefSeq'}\n",
      "{'accession': '', 'source': 'RefSeq'}\n",
      "{'accession': '', 'source': 'RefSeq'}\n",
      "{'accession': '', 'source': 'RefSeq'}\n",
      "{'accession': '', 'source': 'RefSeq'}\n",
      "{'accession': '', 'source': 'RefSeq'}\n",
      "{'accession': '', 'source': 'RefSeq'}\n",
      "{'accession': '', 'source': 'RefSeq'}\n",
      "{'accession': '', 'source': 'RefSeq'}\n",
      "{'accession': '', 'source': 'RefSeq'}\n",
      "{'accession': '', 'source': 'RefSeq'}\n",
      "{'accession': '', 'source': 'RefSeq'}\n",
      "{'accession': '', 'source': 'RefSeq'}\n",
      "{'accession': '', 'source': 'RefSeq'}\n",
      "{'accession': '', 'source': 'RefSeq'}\n",
      "{'accession': '', 'source': 'RefSeq'}\n",
      "{'accession': '', 'source': 'RefSeq'}\n",
      "{'accession': '', 'source': 'RefSeq'}\n",
      "{'accession': '', 'source': 'RefSeq'}\n",
      "{'accession': '', 'source': 'RefSeq'}\n",
      "{'accession': '', 'source': 'RefSeq'}\n",
      "{'accession': '', 'source': 'RefSeq'}\n",
      "{'accession': '', 'source': 'RefSeq'}\n",
      "{'accession': '', 'source': 'RefSeq'}\n",
      "{'accession': '', 'source': 'RefSeq'}\n",
      "{'accession': '', 'source': 'RefSeq'}\n",
      "{'accession': 'ENSE00003500023', 'source': 'Ensembl'}\n",
      "{'accession': 'ENSE00003684820', 'source': 'Ensembl'}\n",
      "{'accession': 'ENSE00002511393', 'source': 'Ensembl'}\n",
      "{'accession': 'ENSE00002515122', 'source': 'Ensembl'}\n",
      "{'accession': 'ENSE00000819877', 'source': 'Ensembl'}\n",
      "{'accession': 'ENSE00000736713', 'source': 'Ensembl'}\n",
      "{'accession': 'ENSE00003502401', 'source': 'Ensembl'}\n",
      "{'accession': 'ENSE00003621866', 'source': 'Ensembl'}\n",
      "{'accession': 'ENSE00003586134', 'source': 'Ensembl'}\n",
      "{'accession': 'ENSE00003520533', 'source': 'Ensembl'}\n",
      "{'accession': 'ENSE00003541153', 'source': 'Ensembl'}\n",
      "{'accession': 'ENSE00003458516', 'source': 'Ensembl'}\n",
      "{'accession': 'ENSE00000736743', 'source': 'Ensembl'}\n",
      "{'accession': 'ENSE00000736747', 'source': 'Ensembl'}\n",
      "{'accession': 'ENSE00000736751', 'source': 'Ensembl'}\n",
      "{'accession': 'ENSE00002214498', 'source': 'Ensembl'}\n",
      "{'accession': 'ENSE00003527609', 'source': 'Ensembl'}\n",
      "{'accession': 'ENSE00003639585', 'source': 'Ensembl'}\n",
      "{'accession': 'ENSE00003603314', 'source': 'Ensembl'}\n",
      "{'accession': 'ENSE00003614903', 'source': 'Ensembl'}\n",
      "{'accession': 'ENSE00003472408', 'source': 'Ensembl'}\n",
      "{'accession': 'ENSE00003528010', 'source': 'Ensembl'}\n",
      "{'accession': 'ENSE00003471690', 'source': 'Ensembl'}\n",
      "{'accession': 'ENSE00003468021', 'source': 'Ensembl'}\n",
      "{'accession': 'ENSE00000736786', 'source': 'Ensembl'}\n",
      "{'accession': 'ENSE00003497522', 'source': 'Ensembl'}\n",
      "{'accession': 'ENSE00003685723', 'source': 'Ensembl'}\n",
      "{'accession': 'ENSE00003501696', 'source': 'Ensembl'}\n",
      "{'accession': 'ENSE00003626685', 'source': 'Ensembl'}\n",
      "{'accession': 'ENSE00003465830', 'source': 'Ensembl'}\n",
      "{'accession': 'ENSE00003581772', 'source': 'Ensembl'}\n",
      "{'accession': 'ENSE00003665182', 'source': 'Ensembl'}\n",
      "{'accession': 'ENSE00003634235', 'source': 'Ensembl'}\n",
      "{'accession': 'ENSE00000736814', 'source': 'Ensembl'}\n",
      "{'accession': 'ENSE00000736819', 'source': 'Ensembl'}\n",
      "{'accession': 'ENSE00000736823', 'source': 'Ensembl'}\n",
      "{'accession': 'ENSE00000736827', 'source': 'Ensembl'}\n",
      "{'accession': 'ENSE00000736830', 'source': 'Ensembl'}\n",
      "{'accession': 'ENSE00000736832', 'source': 'Ensembl'}\n",
      "{'accession': 'ENSE00000736834', 'source': 'Ensembl'}\n",
      "{'accession': 'ENSE00000736836', 'source': 'Ensembl'}\n",
      "{'accession': 'ENSE00000736838', 'source': 'Ensembl'}\n",
      "{'accession': 'ENSE00000736840', 'source': 'Ensembl'}\n",
      "{'accession': 'ENSE00000736842', 'source': 'Ensembl'}\n",
      "{'accession': 'ENSE00003284476', 'source': 'Ensembl'}\n",
      "{'accession': 'ENSE00003432012', 'source': 'Ensembl'}\n",
      "{'accession': 'ENSE00001594859', 'source': 'Ensembl'}\n",
      "{'accession': 'ENSE00000736851', 'source': 'Ensembl'}\n",
      "{'accession': 'ENSE00000736853', 'source': 'Ensembl'}\n",
      "{'accession': 'ENSE00000736855', 'source': 'Ensembl'}\n",
      "{'accession': 'ENSE00001132088', 'source': 'Ensembl'}\n",
      "{'accession': 'ENSE00003563527', 'source': 'Ensembl'}\n",
      "{'accession': 'ENSE00003592169', 'source': 'Ensembl'}\n",
      "{'accession': 'ENSE00001834784', 'source': 'Ensembl'}\n",
      "{'accession': 'ENSE00001956725', 'source': 'Ensembl'}\n",
      "{'accession': 'ENSE00002046241', 'source': 'Ensembl'}\n",
      "{'accession': 'ENSE00002511393', 'source': 'Ensembl'}\n",
      "{'accession': 'ENSE00002515122', 'source': 'Ensembl'}\n",
      "{'accession': 'ENSE00002060645', 'source': 'Ensembl'}\n",
      "{'accession': 'ENSE00001925128', 'source': 'Ensembl'}\n",
      "{'accession': 'ENSE00003636897', 'source': 'Ensembl'}\n",
      "{'accession': 'ENSE00003490629', 'source': 'Ensembl'}\n",
      "{'accession': 'ENSE00003667843', 'source': 'Ensembl'}\n",
      "{'accession': 'ENSE00003494530', 'source': 'Ensembl'}\n",
      "{'accession': 'ENSE00003537550', 'source': 'Ensembl'}\n",
      "{'accession': 'ENSE00003472271', 'source': 'Ensembl'}\n",
      "{'accession': 'ENSE00002475518', 'source': 'Ensembl'}\n",
      "{'accession': 'ENSE00001819095', 'source': 'Ensembl'}\n",
      "{'accession': 'ENSE00001947600', 'source': 'Ensembl'}\n",
      "{'accession': 'ENSE00003652997', 'source': 'Ensembl'}\n",
      "{'accession': 'ENSE00003542252', 'source': 'Ensembl'}\n",
      "{'accession': 'ENSE00003487530', 'source': 'Ensembl'}\n",
      "{'accession': 'ENSE00003602711', 'source': 'Ensembl'}\n",
      "{'accession': 'ENSE00003649175', 'source': 'Ensembl'}\n",
      "{'accession': 'ENSE00003614345', 'source': 'Ensembl'}\n",
      "{'accession': 'ENSE00003556583', 'source': 'Ensembl'}\n",
      "{'accession': 'ENSE00001864408', 'source': 'Ensembl'}\n",
      "{'accession': 'ENSE00002471171', 'source': 'Ensembl'}\n",
      "{'accession': 'ENSE00003467192', 'source': 'Ensembl'}\n",
      "{'accession': 'ENSE00001832962', 'source': 'Ensembl'}\n",
      "{'accession': 'ENSE00001814863', 'source': 'Ensembl'}\n",
      "{'accession': 'ENSE00003693657', 'source': 'Ensembl'}\n",
      "{'accession': 'ENSE00003657422', 'source': 'Ensembl'}\n",
      "{'accession': 'ENSE00003690889', 'source': 'Ensembl'}\n",
      "{'accession': 'ENSE00003466220', 'source': 'Ensembl'}\n",
      "{'accession': 'ENSE00003616509', 'source': 'Ensembl'}\n",
      "{'accession': 'ENSE00003573617', 'source': 'Ensembl'}\n",
      "{'accession': 'ENSE00003500083', 'source': 'Ensembl'}\n",
      "{'accession': 'ENSE00002492511', 'source': 'Ensembl'}\n",
      "{'accession': 'ENSE00002087224', 'source': 'Ensembl'}\n",
      "{'accession': 'ENSE00002048881', 'source': 'Ensembl'}\n",
      "{'accession': 'ENSE00003645412', 'source': 'Ensembl'}\n",
      "{'accession': 'ENSE00001847864', 'source': 'Ensembl'}\n",
      "{'accession': 'ENSE00002027185', 'source': 'Ensembl'}\n",
      "{'accession': 'ENSE00002019786', 'source': 'Ensembl'}\n",
      "{'accession': 'ENSE00001898504', 'source': 'Ensembl'}\n",
      "{'accession': 'ENSE00001827186', 'source': 'Ensembl'}\n",
      "{'accession': 'ENSE00002046770', 'source': 'Ensembl'}\n",
      "{'accession': 'ENSE00002038267', 'source': 'Ensembl'}\n",
      "{}\n",
      "{}\n",
      "{}\n",
      "{}\n",
      "{}\n",
      "{}\n",
      "{}\n",
      "{}\n",
      "{}\n",
      "{}\n",
      "{}\n",
      "{}\n",
      "{}\n",
      "{}\n",
      "{}\n",
      "{}\n",
      "{}\n",
      "{}\n",
      "{}\n",
      "{}\n",
      "{}\n",
      "{}\n",
      "{}\n",
      "{}\n",
      "{}\n",
      "{}\n",
      "{}\n",
      "{}\n",
      "{}\n",
      "{}\n",
      "{}\n",
      "{}\n",
      "{}\n",
      "{}\n",
      "{}\n",
      "{}\n",
      "{}\n",
      "{}\n",
      "{}\n",
      "{}\n",
      "{}\n",
      "{}\n",
      "{}\n",
      "{}\n",
      "{}\n",
      "{}\n",
      "{}\n",
      "{}\n",
      "{}\n",
      "{}\n",
      "{}\n"
     ]
    }
   ],
   "source": [
    "for exon in root.iter('exon'):\n",
    "    print (exon.attrib)\n",
    "    #rank = country.find('rank').text\n",
    "    #stat = country.find('start')\n",
    "    #print (start)"
   ]
  },
  {
   "cell_type": "code",
   "execution_count": 41,
   "metadata": {
    "collapsed": false
   },
   "outputs": [],
   "source": [
    "for annotation_set in root[1].findall('GRCh37'):\n",
    "    #rank = country.find('rank').text\n",
    "    chr = annotation_set.get('other_name')\n",
    "    print ('hello')"
   ]
  },
  {
   "cell_type": "code",
   "execution_count": null,
   "metadata": {
    "collapsed": true
   },
   "outputs": [],
   "source": []
  }
 ],
 "metadata": {
  "anaconda-cloud": {},
  "kernelspec": {
   "display_name": "Python [default]",
   "language": "python",
   "name": "python3"
  },
  "language_info": {
   "codemirror_mode": {
    "name": "ipython",
    "version": 3
   },
   "file_extension": ".py",
   "mimetype": "text/x-python",
   "name": "python",
   "nbconvert_exporter": "python",
   "pygments_lexer": "ipython3",
   "version": "3.5.2"
  }
 },
 "nbformat": 4,
 "nbformat_minor": 1
}
