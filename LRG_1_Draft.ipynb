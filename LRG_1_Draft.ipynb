{
 "cells": [
  {
   "cell_type": "markdown",
   "metadata": {},
   "source": [
    "<?xml version=\"1.0\"?>\n",
    "<data>\n",
    "    <country name=\"Liechtenstein\">\n",
    "        <rank>1</rank>\n",
    "        <year>2008</year>\n",
    "        <gdppc>141100</gdppc>\n",
    "        <neighbor name=\"Austria\" direction=\"E\"/>\n",
    "        <neighbor name=\"Switzerland\" direction=\"W\"/>\n",
    "    </country>\n",
    "    <country name=\"Singapore\">\n",
    "        <rank>4</rank>\n",
    "        <year>2011</year>\n",
    "        <gdppc>59900</gdppc>\n",
    "        <neighbor name=\"Malaysia\" direction=\"N\"/>\n",
    "    </country>\n",
    "    <country name=\"Panama\">\n",
    "        <rank>68</rank>\n",
    "        <year>2011</year>\n",
    "        <gdppc>13600</gdppc>\n",
    "        <neighbor name=\"Costa Rica\" direction=\"W\"/>\n",
    "        <neighbor name=\"Colombia\" direction=\"E\"/>\n",
    "    </country>\n",
    "</data>"
   ]
  },
  {
   "cell_type": "code",
   "execution_count": 1,
   "metadata": {
    "collapsed": false
   },
   "outputs": [],
   "source": [
    "import xml.etree.ElementTree as ET\n",
    "tree = ET.parse('LRG_1.xml')\n",
    "root = tree.getroot()"
   ]
  },
  {
   "cell_type": "code",
   "execution_count": 2,
   "metadata": {
    "collapsed": false
   },
   "outputs": [
    {
     "data": {
      "text/plain": [
       "'lrg'"
      ]
     },
     "execution_count": 2,
     "metadata": {},
     "output_type": "execute_result"
    }
   ],
   "source": [
    "root.tag"
   ]
  },
  {
   "cell_type": "code",
   "execution_count": 3,
   "metadata": {
    "collapsed": false
   },
   "outputs": [
    {
     "data": {
      "text/plain": [
       "{'schema_version': '1.9'}"
      ]
     },
     "execution_count": 3,
     "metadata": {},
     "output_type": "execute_result"
    }
   ],
   "source": [
    "root.attrib"
   ]
  },
  {
   "cell_type": "code",
   "execution_count": 12,
   "metadata": {
    "collapsed": false
   },
   "outputs": [
    {
     "data": {
      "text/plain": [
       "<Element 'updatable_annotation' at 0x0000016AFE626B38>"
      ]
     },
     "execution_count": 12,
     "metadata": {},
     "output_type": "execute_result"
    }
   ],
   "source": [
    "root[1]"
   ]
  },
  {
   "cell_type": "code",
   "execution_count": 4,
   "metadata": {
    "collapsed": false
   },
   "outputs": [
    {
     "name": "stdout",
     "output_type": "stream",
     "text": [
      "fixed_annotation {}\n",
      "updatable_annotation {}\n"
     ]
    }
   ],
   "source": [
    "for child in root:\n",
    "    print (child.tag, child.attrib)"
   ]
  },
  {
   "cell_type": "code",
   "execution_count": 31,
   "metadata": {
    "collapsed": false
   },
   "outputs": [
    {
     "name": "stdout",
     "output_type": "stream",
     "text": [
      "LRG_1\n",
      "NG_007400.1\n",
      "Homo sapiens\n",
      "Osteogenesis Imperfecta Variant Database - COL1A1\n",
      "dna\n",
      "2010-03-17\n",
      "<Element 'mapping' at 0x0000016AFE62C278>\n"
     ]
    }
   ],
   "source": [
    "#DONE: Obtain LRG_ID\n",
    "print (root[0][0].text)\n",
    "print (root[0][2].text)\n",
    "print (root[0][3].text)\n",
    "print (root[0][4][0].text)\n",
    "print (root[0][5].text)\n",
    "print (root[0][6].text)\n",
    "#print (root[0][7].text)\n",
    "print (root[1][1][2])\n",
    "#chr = country.get('other_name')"
   ]
  },
  {
   "cell_type": "code",
   "execution_count": 6,
   "metadata": {
    "collapsed": false
   },
   "outputs": [
    {
     "name": "stdout",
     "output_type": "stream",
     "text": [
      "{'label': '1'}\n",
      "{'label': '2'}\n",
      "{'label': '3'}\n",
      "{'label': '4'}\n",
      "{'label': '5'}\n",
      "{'label': '6'}\n",
      "{'label': '7'}\n",
      "{'label': '8'}\n",
      "{'label': '9'}\n",
      "{'label': '10'}\n",
      "{'label': '11'}\n",
      "{'label': '12'}\n",
      "{'label': '13'}\n",
      "{'label': '14'}\n",
      "{'label': '15'}\n",
      "{'label': '16'}\n",
      "{'label': '17'}\n",
      "{'label': '18'}\n",
      "{'label': '19'}\n",
      "{'label': '20'}\n",
      "{'label': '21'}\n",
      "{'label': '22'}\n",
      "{'label': '23'}\n",
      "{'label': '24'}\n",
      "{'label': '25'}\n",
      "{'label': '26'}\n",
      "{'label': '27'}\n",
      "{'label': '28'}\n",
      "{'label': '29'}\n",
      "{'label': '30'}\n",
      "{'label': '31'}\n",
      "{'label': '32'}\n",
      "{'label': '33'}\n",
      "{'label': '34'}\n",
      "{'label': '35'}\n",
      "{'label': '36'}\n",
      "{'label': '37'}\n",
      "{'label': '38'}\n",
      "{'label': '39'}\n",
      "{'label': '40'}\n",
      "{'label': '41'}\n",
      "{'label': '42'}\n",
      "{'label': '43'}\n",
      "{'label': '44'}\n",
      "{'label': '45'}\n",
      "{'label': '46'}\n",
      "{'label': '47'}\n",
      "{'label': '48'}\n",
      "{'label': '49'}\n",
      "{'label': '50'}\n",
      "{'label': '51'}\n",
      "{'source': 'RefSeq', 'accession': ''}\n",
      "{'source': 'RefSeq', 'accession': ''}\n",
      "{'source': 'RefSeq', 'accession': ''}\n",
      "{'source': 'RefSeq', 'accession': ''}\n",
      "{'source': 'RefSeq', 'accession': ''}\n",
      "{'source': 'RefSeq', 'accession': ''}\n",
      "{'source': 'RefSeq', 'accession': ''}\n",
      "{'source': 'RefSeq', 'accession': ''}\n",
      "{'source': 'RefSeq', 'accession': ''}\n",
      "{'source': 'RefSeq', 'accession': ''}\n",
      "{'source': 'RefSeq', 'accession': ''}\n",
      "{'source': 'RefSeq', 'accession': ''}\n",
      "{'source': 'RefSeq', 'accession': ''}\n",
      "{'source': 'RefSeq', 'accession': ''}\n",
      "{'source': 'RefSeq', 'accession': ''}\n",
      "{'source': 'RefSeq', 'accession': ''}\n",
      "{'source': 'RefSeq', 'accession': ''}\n",
      "{'source': 'RefSeq', 'accession': ''}\n",
      "{'source': 'RefSeq', 'accession': ''}\n",
      "{'source': 'RefSeq', 'accession': ''}\n",
      "{'source': 'RefSeq', 'accession': ''}\n",
      "{'source': 'RefSeq', 'accession': ''}\n",
      "{'source': 'RefSeq', 'accession': ''}\n",
      "{'source': 'RefSeq', 'accession': ''}\n",
      "{'source': 'RefSeq', 'accession': ''}\n",
      "{'source': 'RefSeq', 'accession': ''}\n",
      "{'source': 'RefSeq', 'accession': ''}\n",
      "{'source': 'RefSeq', 'accession': ''}\n",
      "{'source': 'RefSeq', 'accession': ''}\n",
      "{'source': 'RefSeq', 'accession': ''}\n",
      "{'source': 'RefSeq', 'accession': ''}\n",
      "{'source': 'RefSeq', 'accession': ''}\n",
      "{'source': 'RefSeq', 'accession': ''}\n",
      "{'source': 'RefSeq', 'accession': ''}\n",
      "{'source': 'RefSeq', 'accession': ''}\n",
      "{'source': 'RefSeq', 'accession': ''}\n",
      "{'source': 'RefSeq', 'accession': ''}\n",
      "{'source': 'RefSeq', 'accession': ''}\n",
      "{'source': 'RefSeq', 'accession': ''}\n",
      "{'source': 'RefSeq', 'accession': ''}\n",
      "{'source': 'RefSeq', 'accession': ''}\n",
      "{'source': 'RefSeq', 'accession': ''}\n",
      "{'source': 'RefSeq', 'accession': ''}\n",
      "{'source': 'RefSeq', 'accession': ''}\n",
      "{'source': 'RefSeq', 'accession': ''}\n",
      "{'source': 'RefSeq', 'accession': ''}\n",
      "{'source': 'RefSeq', 'accession': ''}\n",
      "{'source': 'RefSeq', 'accession': ''}\n",
      "{'source': 'RefSeq', 'accession': ''}\n",
      "{'source': 'RefSeq', 'accession': ''}\n",
      "{'source': 'RefSeq', 'accession': ''}\n",
      "{'source': 'Ensembl', 'accession': 'ENSE00003500023'}\n",
      "{'source': 'Ensembl', 'accession': 'ENSE00003684820'}\n",
      "{'source': 'Ensembl', 'accession': 'ENSE00002511393'}\n",
      "{'source': 'Ensembl', 'accession': 'ENSE00002515122'}\n",
      "{'source': 'Ensembl', 'accession': 'ENSE00000819877'}\n",
      "{'source': 'Ensembl', 'accession': 'ENSE00000736713'}\n",
      "{'source': 'Ensembl', 'accession': 'ENSE00003502401'}\n",
      "{'source': 'Ensembl', 'accession': 'ENSE00003621866'}\n",
      "{'source': 'Ensembl', 'accession': 'ENSE00003586134'}\n",
      "{'source': 'Ensembl', 'accession': 'ENSE00003520533'}\n",
      "{'source': 'Ensembl', 'accession': 'ENSE00003541153'}\n",
      "{'source': 'Ensembl', 'accession': 'ENSE00003458516'}\n",
      "{'source': 'Ensembl', 'accession': 'ENSE00000736743'}\n",
      "{'source': 'Ensembl', 'accession': 'ENSE00000736747'}\n",
      "{'source': 'Ensembl', 'accession': 'ENSE00000736751'}\n",
      "{'source': 'Ensembl', 'accession': 'ENSE00002214498'}\n",
      "{'source': 'Ensembl', 'accession': 'ENSE00003527609'}\n",
      "{'source': 'Ensembl', 'accession': 'ENSE00003639585'}\n",
      "{'source': 'Ensembl', 'accession': 'ENSE00003603314'}\n",
      "{'source': 'Ensembl', 'accession': 'ENSE00003614903'}\n",
      "{'source': 'Ensembl', 'accession': 'ENSE00003472408'}\n",
      "{'source': 'Ensembl', 'accession': 'ENSE00003528010'}\n",
      "{'source': 'Ensembl', 'accession': 'ENSE00003471690'}\n",
      "{'source': 'Ensembl', 'accession': 'ENSE00003468021'}\n",
      "{'source': 'Ensembl', 'accession': 'ENSE00000736786'}\n",
      "{'source': 'Ensembl', 'accession': 'ENSE00003497522'}\n",
      "{'source': 'Ensembl', 'accession': 'ENSE00003685723'}\n",
      "{'source': 'Ensembl', 'accession': 'ENSE00003501696'}\n",
      "{'source': 'Ensembl', 'accession': 'ENSE00003626685'}\n",
      "{'source': 'Ensembl', 'accession': 'ENSE00003465830'}\n",
      "{'source': 'Ensembl', 'accession': 'ENSE00003581772'}\n",
      "{'source': 'Ensembl', 'accession': 'ENSE00003665182'}\n",
      "{'source': 'Ensembl', 'accession': 'ENSE00003634235'}\n",
      "{'source': 'Ensembl', 'accession': 'ENSE00000736814'}\n",
      "{'source': 'Ensembl', 'accession': 'ENSE00000736819'}\n",
      "{'source': 'Ensembl', 'accession': 'ENSE00000736823'}\n",
      "{'source': 'Ensembl', 'accession': 'ENSE00000736827'}\n",
      "{'source': 'Ensembl', 'accession': 'ENSE00000736830'}\n",
      "{'source': 'Ensembl', 'accession': 'ENSE00000736832'}\n",
      "{'source': 'Ensembl', 'accession': 'ENSE00000736834'}\n",
      "{'source': 'Ensembl', 'accession': 'ENSE00000736836'}\n",
      "{'source': 'Ensembl', 'accession': 'ENSE00000736838'}\n",
      "{'source': 'Ensembl', 'accession': 'ENSE00000736840'}\n",
      "{'source': 'Ensembl', 'accession': 'ENSE00000736842'}\n",
      "{'source': 'Ensembl', 'accession': 'ENSE00003284476'}\n",
      "{'source': 'Ensembl', 'accession': 'ENSE00003432012'}\n",
      "{'source': 'Ensembl', 'accession': 'ENSE00001594859'}\n",
      "{'source': 'Ensembl', 'accession': 'ENSE00000736851'}\n",
      "{'source': 'Ensembl', 'accession': 'ENSE00000736853'}\n",
      "{'source': 'Ensembl', 'accession': 'ENSE00000736855'}\n",
      "{'source': 'Ensembl', 'accession': 'ENSE00001132088'}\n",
      "{'source': 'Ensembl', 'accession': 'ENSE00003563527'}\n",
      "{'source': 'Ensembl', 'accession': 'ENSE00003592169'}\n",
      "{'source': 'Ensembl', 'accession': 'ENSE00001834784'}\n",
      "{'source': 'Ensembl', 'accession': 'ENSE00001956725'}\n",
      "{'source': 'Ensembl', 'accession': 'ENSE00002046241'}\n",
      "{'source': 'Ensembl', 'accession': 'ENSE00002511393'}\n",
      "{'source': 'Ensembl', 'accession': 'ENSE00002515122'}\n",
      "{'source': 'Ensembl', 'accession': 'ENSE00002060645'}\n",
      "{'source': 'Ensembl', 'accession': 'ENSE00001925128'}\n",
      "{'source': 'Ensembl', 'accession': 'ENSE00003636897'}\n",
      "{'source': 'Ensembl', 'accession': 'ENSE00003490629'}\n",
      "{'source': 'Ensembl', 'accession': 'ENSE00003667843'}\n",
      "{'source': 'Ensembl', 'accession': 'ENSE00003494530'}\n",
      "{'source': 'Ensembl', 'accession': 'ENSE00003537550'}\n",
      "{'source': 'Ensembl', 'accession': 'ENSE00003472271'}\n",
      "{'source': 'Ensembl', 'accession': 'ENSE00002475518'}\n",
      "{'source': 'Ensembl', 'accession': 'ENSE00001819095'}\n",
      "{'source': 'Ensembl', 'accession': 'ENSE00001947600'}\n",
      "{'source': 'Ensembl', 'accession': 'ENSE00003652997'}\n",
      "{'source': 'Ensembl', 'accession': 'ENSE00003542252'}\n",
      "{'source': 'Ensembl', 'accession': 'ENSE00003487530'}\n",
      "{'source': 'Ensembl', 'accession': 'ENSE00003602711'}\n",
      "{'source': 'Ensembl', 'accession': 'ENSE00003649175'}\n",
      "{'source': 'Ensembl', 'accession': 'ENSE00003614345'}\n",
      "{'source': 'Ensembl', 'accession': 'ENSE00003556583'}\n",
      "{'source': 'Ensembl', 'accession': 'ENSE00001864408'}\n",
      "{'source': 'Ensembl', 'accession': 'ENSE00002471171'}\n",
      "{'source': 'Ensembl', 'accession': 'ENSE00003467192'}\n",
      "{'source': 'Ensembl', 'accession': 'ENSE00001832962'}\n",
      "{'source': 'Ensembl', 'accession': 'ENSE00001814863'}\n",
      "{'source': 'Ensembl', 'accession': 'ENSE00003693657'}\n",
      "{'source': 'Ensembl', 'accession': 'ENSE00003657422'}\n",
      "{'source': 'Ensembl', 'accession': 'ENSE00003690889'}\n",
      "{'source': 'Ensembl', 'accession': 'ENSE00003466220'}\n",
      "{'source': 'Ensembl', 'accession': 'ENSE00003616509'}\n",
      "{'source': 'Ensembl', 'accession': 'ENSE00003573617'}\n",
      "{'source': 'Ensembl', 'accession': 'ENSE00003500083'}\n",
      "{'source': 'Ensembl', 'accession': 'ENSE00002492511'}\n",
      "{'source': 'Ensembl', 'accession': 'ENSE00002087224'}\n",
      "{'source': 'Ensembl', 'accession': 'ENSE00002048881'}\n",
      "{'source': 'Ensembl', 'accession': 'ENSE00003645412'}\n",
      "{'source': 'Ensembl', 'accession': 'ENSE00001847864'}\n",
      "{'source': 'Ensembl', 'accession': 'ENSE00002027185'}\n",
      "{'source': 'Ensembl', 'accession': 'ENSE00002019786'}\n",
      "{'source': 'Ensembl', 'accession': 'ENSE00001898504'}\n",
      "{'source': 'Ensembl', 'accession': 'ENSE00001827186'}\n",
      "{'source': 'Ensembl', 'accession': 'ENSE00002046770'}\n",
      "{'source': 'Ensembl', 'accession': 'ENSE00002038267'}\n",
      "{}\n",
      "{}\n",
      "{}\n",
      "{}\n",
      "{}\n",
      "{}\n",
      "{}\n",
      "{}\n",
      "{}\n",
      "{}\n",
      "{}\n",
      "{}\n",
      "{}\n",
      "{}\n",
      "{}\n",
      "{}\n",
      "{}\n",
      "{}\n",
      "{}\n",
      "{}\n",
      "{}\n",
      "{}\n",
      "{}\n",
      "{}\n",
      "{}\n",
      "{}\n",
      "{}\n",
      "{}\n",
      "{}\n",
      "{}\n",
      "{}\n",
      "{}\n",
      "{}\n",
      "{}\n",
      "{}\n",
      "{}\n",
      "{}\n",
      "{}\n",
      "{}\n",
      "{}\n",
      "{}\n",
      "{}\n",
      "{}\n",
      "{}\n",
      "{}\n",
      "{}\n",
      "{}\n",
      "{}\n",
      "{}\n",
      "{}\n",
      "{}\n"
     ]
    }
   ],
   "source": [
    "for exon in root.iter('exon'):\n",
    "    print (exon.attrib)"
   ]
  },
  {
   "cell_type": "code",
   "execution_count": 41,
   "metadata": {
    "collapsed": false
   },
   "outputs": [],
   "source": [
    "for annotation_set in root[1].findall('GRCh37'):\n",
    "    #rank = country.find('rank').text\n",
    "    chr = annotation_set.get('other_name')\n",
    "    print ('hello')"
   ]
  },
  {
   "cell_type": "code",
   "execution_count": null,
   "metadata": {
    "collapsed": true
   },
   "outputs": [],
   "source": []
  }
 ],
 "metadata": {
  "anaconda-cloud": {},
  "kernelspec": {
   "display_name": "Python [default]",
   "language": "python",
   "name": "python3"
  },
  "language_info": {
   "codemirror_mode": {
    "name": "ipython",
    "version": 3
   },
   "file_extension": ".py",
   "mimetype": "text/x-python",
   "name": "python",
   "nbconvert_exporter": "python",
   "pygments_lexer": "ipython3",
   "version": "3.5.2"
  }
 },
 "nbformat": 4,
 "nbformat_minor": 1
}
