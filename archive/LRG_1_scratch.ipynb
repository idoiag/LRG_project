{
 "cells": [
  {
   "cell_type": "code",
   "execution_count": 45,
   "metadata": {
    "collapsed": false
   },
   "outputs": [
    {
     "name": "stdout",
     "output_type": "stream",
     "text": [
      "True\n"
     ]
    }
   ],
   "source": [
    "import os.path\n",
    "#os.path.isfile(\"LRG_62.xml\")\n",
    "os.path.exists(\"./\")\n",
    "\n",
    "#from pathlib import Path\n",
    "#if data.is_file():\n",
    "print (os.path.isfile(\"./LRG_1.xml\"))"
   ]
  },
  {
   "cell_type": "code",
   "execution_count": 46,
   "metadata": {
    "collapsed": true
   },
   "outputs": [],
   "source": [
    "# this could be used to extract info from a webpage. Not necessary because labs will usually have \n",
    "# the info saved\n",
    "\n",
    "from urllib.request import urlopen\n",
    "\n",
    "LRG = \"LRG_1\"\n",
    "page = \"http://ftp.ebi.ac.uk/pub/databases/lrgex/\" + LRG + \".xml\"\n",
    "\n",
    "URL_xml = urlopen(page)\n",
    "xml = URL_xml.read()\n",
    "#print (xml)"
   ]
  },
  {
   "cell_type": "code",
   "execution_count": 47,
   "metadata": {
    "collapsed": true
   },
   "outputs": [],
   "source": [
    "import xml.etree.ElementTree as ET\n",
    "tree = ET.parse('LRG_1.xml')\n",
    "root = tree.getroot()\n",
    "fix_anno = tree.getroot()[0]\n",
    "exon_info = tree.getroot()[0][8][3]\n",
    "up_anno = tree.getroot()[1]\n",
    "chro37 = tree.getroot()[1][1][2]\n",
    "chro38 = tree.getroot()[1][1][3]"
   ]
  },
  {
   "cell_type": "code",
   "execution_count": 48,
   "metadata": {
    "collapsed": false
   },
   "outputs": [
    {
     "name": "stdout",
     "output_type": "stream",
     "text": [
      "lrg\n",
      "fixed_annotation\n",
      "updatable_annotation\n",
      "mapping\n"
     ]
    }
   ],
   "source": [
    "print (root.tag)\n",
    "print (fix_anno.tag)\n",
    "print (up_anno.tag)\n",
    "print (chro37.tag)\n",
    "#print (exon_info.tag)"
   ]
  },
  {
   "cell_type": "code",
   "execution_count": 49,
   "metadata": {
    "collapsed": false
   },
   "outputs": [
    {
     "data": {
      "text/plain": [
       "{'schema_version': '1.9'}"
      ]
     },
     "execution_count": 49,
     "metadata": {},
     "output_type": "execute_result"
    }
   ],
   "source": [
    "root.attrib"
   ]
  },
  {
   "cell_type": "code",
   "execution_count": 50,
   "metadata": {
    "collapsed": false
   },
   "outputs": [
    {
     "name": "stdout",
     "output_type": "stream",
     "text": [
      "1.9\n",
      "LRG_1 2197 NG_007400.1 t1 LRG_1 5001 22544 1\n"
     ]
    }
   ],
   "source": [
    "for lrg in root.findall (\".\"):\n",
    "    schema = lrg.get('schema_version')\n",
    "\n",
    "for fixed in root.findall(\"./fixed_annotation\"):\n",
    "    lrg_id = fixed.find('id').text\n",
    "    hgnc_id = fixed.find ('hgnc_id').text\n",
    "    seq_source = fixed.find ('sequence_source').text\n",
    "    \n",
    "    for transcript in root.findall(\"./fixed_annotation/transcript\"):\n",
    "        transcript = transcript.get('name')\n",
    "        \n",
    "        for coordinates in root.findall(\"./fixed_annotation/transcript/coordinates\"):\n",
    "            cs = coordinates.get('coord_system')\n",
    "            start_cs = coordinates.get('start')\n",
    "            end_cs = coordinates.get('end')\n",
    "            strand_cs = coordinates.get('strand')\n",
    "            \n",
    "    print (schema)      \n",
    "    print ( lrg_id,  hgnc_id, seq_source, transcript, cs, start_cs, end_cs, strand_cs)"
   ]
  },
  {
   "cell_type": "code",
   "execution_count": 51,
   "metadata": {
    "collapsed": false
   },
   "outputs": [
    {
     "data": {
      "text/plain": [
       "{'coord_system': 'GRCh37.p13',\n",
       " 'other_end': '48284000',\n",
       " 'other_id': 'NC_000017.10',\n",
       " 'other_id_syn': 'CM000679.1',\n",
       " 'other_name': '17',\n",
       " 'other_start': '48259457',\n",
       " 'type': 'other_assembly'}"
      ]
     },
     "execution_count": 51,
     "metadata": {},
     "output_type": "execute_result"
    }
   ],
   "source": [
    "chro37.attrib"
   ]
  },
  {
   "cell_type": "code",
   "execution_count": 52,
   "metadata": {
    "collapsed": false
   },
   "outputs": [
    {
     "data": {
      "text/plain": [
       "{'coord_system': 'GRCh38.p7',\n",
       " 'other_end': '50206639',\n",
       " 'other_id': 'NC_000017.11',\n",
       " 'other_id_syn': 'CM000679.2',\n",
       " 'other_name': '17',\n",
       " 'other_start': '50182096',\n",
       " 'type': 'main_assembly'}"
      ]
     },
     "execution_count": 52,
     "metadata": {},
     "output_type": "execute_result"
    }
   ],
   "source": [
    "chro38.attrib"
   ]
  },
  {
   "cell_type": "code",
   "execution_count": 53,
   "metadata": {
    "collapsed": false
   },
   "outputs": [
    {
     "name": "stdout",
     "output_type": "stream",
     "text": [
      "chhr37 = {'coord_system': 'GRCh37.p13', 'other_id_syn': 'CM000679.1', 'other_id': 'NC_000017.10', 'other_name': '17', 'type': 'other_assembly', 'other_end': '48284000', 'other_start': '48259457'}\n",
      "chhr38 = {'coord_system': 'GRCh38.p7', 'other_id_syn': 'CM000679.2', 'other_id': 'NC_000017.11', 'other_name': '17', 'type': 'main_assembly', 'other_end': '50206639', 'other_start': '50182096'}\n"
     ]
    }
   ],
   "source": [
    "print (\"chhr37 =\", chro37.attrib)\n",
    "print (\"chhr38 =\", chro38.attrib)"
   ]
  },
  {
   "cell_type": "code",
   "execution_count": 54,
   "metadata": {
    "collapsed": true
   },
   "outputs": [],
   "source": [
    "# print (\"root subelements \", root.getchildren(), \"\\n\")\n",
    "# print (\"root subelements fixed \", root.getchildren()[0].getchildren(),  \"\\n\")\n",
    "# print (\"root subelements fixed_transcript \", root.getchildren()[0].getchildren()[8].getchildren(), \"\\n\")\n",
    "# print (\"root subelements updatable\", root.getchildren()[1].getchildren(), \"\\n\") \n",
    "# print (\"root subelements updatable\", root.getchildren()[1].getchildren()[1].getchildren(), \"\\n\") \n",
    "# build = [updatable_annotation for updatable_annotation in root.findall('updatable_annotation') if updatable_annotation.findtext('annotation_set') == 'lrg']\n",
    "# print (\"Build = \", build, \"\\n\")"
   ]
  },
  {
   "cell_type": "code",
   "execution_count": 55,
   "metadata": {
    "collapsed": false
   },
   "outputs": [
    {
     "name": "stdout",
     "output_type": "stream",
     "text": [
      "id {}\n",
      "hgnc_id {}\n",
      "sequence_source {}\n",
      "organism {'taxon': '9606'}\n",
      "source {}\n",
      "mol_type {}\n",
      "creation_date {}\n",
      "sequence {}\n",
      "transcript {'name': 't1'}\n"
     ]
    }
   ],
   "source": [
    "for child in fix_anno:\n",
    "    print (child.tag, child.attrib)"
   ]
  },
  {
   "cell_type": "code",
   "execution_count": 56,
   "metadata": {
    "collapsed": false
   },
   "outputs": [
    {
     "name": "stdout",
     "output_type": "stream",
     "text": [
      "LRG_1\n",
      "NG_007400.1\n",
      "Homo sapiens\n",
      "Osteogenesis Imperfecta Variant Database - COL1A1\n",
      "dna\n",
      "2010-03-17\n",
      "<Element 'mapping' at 0x000002C727AFD2C8>\n"
     ]
    }
   ],
   "source": [
    "#DONE: Obtain LRG_ID\n",
    "print (root[0][0].text)\n",
    "print (root[0][2].text)\n",
    "print (root[0][3].text)\n",
    "print (root[0][4][0].text)\n",
    "print (root[0][5].text)\n",
    "print (root[0][6].text)\n",
    "#print (root[0][7].text)\n",
    "print (root[1][1][2])\n",
    "#chr = country.get('other_name')"
   ]
  },
  {
   "cell_type": "code",
   "execution_count": 57,
   "metadata": {
    "collapsed": false
   },
   "outputs": [
    {
     "name": "stdout",
     "output_type": "stream",
     "text": [
      "{'label': '1'}\n",
      "{'label': '2'}\n",
      "{'label': '3'}\n",
      "{'label': '4'}\n",
      "{'label': '5'}\n",
      "{'label': '6'}\n",
      "{'label': '7'}\n",
      "{'label': '8'}\n",
      "{'label': '9'}\n",
      "{'label': '10'}\n",
      "{'label': '11'}\n",
      "{'label': '12'}\n",
      "{'label': '13'}\n",
      "{'label': '14'}\n",
      "{'label': '15'}\n",
      "{'label': '16'}\n",
      "{'label': '17'}\n",
      "{'label': '18'}\n",
      "{'label': '19'}\n",
      "{'label': '20'}\n",
      "{'label': '21'}\n",
      "{'label': '22'}\n",
      "{'label': '23'}\n",
      "{'label': '24'}\n",
      "{'label': '25'}\n",
      "{'label': '26'}\n",
      "{'label': '27'}\n",
      "{'label': '28'}\n",
      "{'label': '29'}\n",
      "{'label': '30'}\n",
      "{'label': '31'}\n",
      "{'label': '32'}\n",
      "{'label': '33'}\n",
      "{'label': '34'}\n",
      "{'label': '35'}\n",
      "{'label': '36'}\n",
      "{'label': '37'}\n",
      "{'label': '38'}\n",
      "{'label': '39'}\n",
      "{'label': '40'}\n",
      "{'label': '41'}\n",
      "{'label': '42'}\n",
      "{'label': '43'}\n",
      "{'label': '44'}\n",
      "{'label': '45'}\n",
      "{'label': '46'}\n",
      "{'label': '47'}\n",
      "{'label': '48'}\n",
      "{'label': '49'}\n",
      "{'label': '50'}\n",
      "{'label': '51'}\n",
      "{'accession': '', 'source': 'RefSeq'}\n",
      "{'accession': '', 'source': 'RefSeq'}\n",
      "{'accession': '', 'source': 'RefSeq'}\n",
      "{'accession': '', 'source': 'RefSeq'}\n",
      "{'accession': '', 'source': 'RefSeq'}\n",
      "{'accession': '', 'source': 'RefSeq'}\n",
      "{'accession': '', 'source': 'RefSeq'}\n",
      "{'accession': '', 'source': 'RefSeq'}\n",
      "{'accession': '', 'source': 'RefSeq'}\n",
      "{'accession': '', 'source': 'RefSeq'}\n",
      "{'accession': '', 'source': 'RefSeq'}\n",
      "{'accession': '', 'source': 'RefSeq'}\n",
      "{'accession': '', 'source': 'RefSeq'}\n",
      "{'accession': '', 'source': 'RefSeq'}\n",
      "{'accession': '', 'source': 'RefSeq'}\n",
      "{'accession': '', 'source': 'RefSeq'}\n",
      "{'accession': '', 'source': 'RefSeq'}\n",
      "{'accession': '', 'source': 'RefSeq'}\n",
      "{'accession': '', 'source': 'RefSeq'}\n",
      "{'accession': '', 'source': 'RefSeq'}\n",
      "{'accession': '', 'source': 'RefSeq'}\n",
      "{'accession': '', 'source': 'RefSeq'}\n",
      "{'accession': '', 'source': 'RefSeq'}\n",
      "{'accession': '', 'source': 'RefSeq'}\n",
      "{'accession': '', 'source': 'RefSeq'}\n",
      "{'accession': '', 'source': 'RefSeq'}\n",
      "{'accession': '', 'source': 'RefSeq'}\n",
      "{'accession': '', 'source': 'RefSeq'}\n",
      "{'accession': '', 'source': 'RefSeq'}\n",
      "{'accession': '', 'source': 'RefSeq'}\n",
      "{'accession': '', 'source': 'RefSeq'}\n",
      "{'accession': '', 'source': 'RefSeq'}\n",
      "{'accession': '', 'source': 'RefSeq'}\n",
      "{'accession': '', 'source': 'RefSeq'}\n",
      "{'accession': '', 'source': 'RefSeq'}\n",
      "{'accession': '', 'source': 'RefSeq'}\n",
      "{'accession': '', 'source': 'RefSeq'}\n",
      "{'accession': '', 'source': 'RefSeq'}\n",
      "{'accession': '', 'source': 'RefSeq'}\n",
      "{'accession': '', 'source': 'RefSeq'}\n",
      "{'accession': '', 'source': 'RefSeq'}\n",
      "{'accession': '', 'source': 'RefSeq'}\n",
      "{'accession': '', 'source': 'RefSeq'}\n",
      "{'accession': '', 'source': 'RefSeq'}\n",
      "{'accession': '', 'source': 'RefSeq'}\n",
      "{'accession': '', 'source': 'RefSeq'}\n",
      "{'accession': '', 'source': 'RefSeq'}\n",
      "{'accession': '', 'source': 'RefSeq'}\n",
      "{'accession': '', 'source': 'RefSeq'}\n",
      "{'accession': '', 'source': 'RefSeq'}\n",
      "{'accession': '', 'source': 'RefSeq'}\n",
      "{'accession': 'ENSE00003500023', 'source': 'Ensembl'}\n",
      "{'accession': 'ENSE00003684820', 'source': 'Ensembl'}\n",
      "{'accession': 'ENSE00002511393', 'source': 'Ensembl'}\n",
      "{'accession': 'ENSE00002515122', 'source': 'Ensembl'}\n",
      "{'accession': 'ENSE00000819877', 'source': 'Ensembl'}\n",
      "{'accession': 'ENSE00000736713', 'source': 'Ensembl'}\n",
      "{'accession': 'ENSE00003502401', 'source': 'Ensembl'}\n",
      "{'accession': 'ENSE00003621866', 'source': 'Ensembl'}\n",
      "{'accession': 'ENSE00003586134', 'source': 'Ensembl'}\n",
      "{'accession': 'ENSE00003520533', 'source': 'Ensembl'}\n",
      "{'accession': 'ENSE00003541153', 'source': 'Ensembl'}\n",
      "{'accession': 'ENSE00003458516', 'source': 'Ensembl'}\n",
      "{'accession': 'ENSE00000736743', 'source': 'Ensembl'}\n",
      "{'accession': 'ENSE00000736747', 'source': 'Ensembl'}\n",
      "{'accession': 'ENSE00000736751', 'source': 'Ensembl'}\n",
      "{'accession': 'ENSE00002214498', 'source': 'Ensembl'}\n",
      "{'accession': 'ENSE00003527609', 'source': 'Ensembl'}\n",
      "{'accession': 'ENSE00003639585', 'source': 'Ensembl'}\n",
      "{'accession': 'ENSE00003603314', 'source': 'Ensembl'}\n",
      "{'accession': 'ENSE00003614903', 'source': 'Ensembl'}\n",
      "{'accession': 'ENSE00003472408', 'source': 'Ensembl'}\n",
      "{'accession': 'ENSE00003528010', 'source': 'Ensembl'}\n",
      "{'accession': 'ENSE00003471690', 'source': 'Ensembl'}\n",
      "{'accession': 'ENSE00003468021', 'source': 'Ensembl'}\n",
      "{'accession': 'ENSE00000736786', 'source': 'Ensembl'}\n",
      "{'accession': 'ENSE00003497522', 'source': 'Ensembl'}\n",
      "{'accession': 'ENSE00003685723', 'source': 'Ensembl'}\n",
      "{'accession': 'ENSE00003501696', 'source': 'Ensembl'}\n",
      "{'accession': 'ENSE00003626685', 'source': 'Ensembl'}\n",
      "{'accession': 'ENSE00003465830', 'source': 'Ensembl'}\n",
      "{'accession': 'ENSE00003581772', 'source': 'Ensembl'}\n",
      "{'accession': 'ENSE00003665182', 'source': 'Ensembl'}\n",
      "{'accession': 'ENSE00003634235', 'source': 'Ensembl'}\n",
      "{'accession': 'ENSE00000736814', 'source': 'Ensembl'}\n",
      "{'accession': 'ENSE00000736819', 'source': 'Ensembl'}\n",
      "{'accession': 'ENSE00000736823', 'source': 'Ensembl'}\n",
      "{'accession': 'ENSE00000736827', 'source': 'Ensembl'}\n",
      "{'accession': 'ENSE00000736830', 'source': 'Ensembl'}\n",
      "{'accession': 'ENSE00000736832', 'source': 'Ensembl'}\n",
      "{'accession': 'ENSE00000736834', 'source': 'Ensembl'}\n",
      "{'accession': 'ENSE00000736836', 'source': 'Ensembl'}\n",
      "{'accession': 'ENSE00000736838', 'source': 'Ensembl'}\n",
      "{'accession': 'ENSE00000736840', 'source': 'Ensembl'}\n",
      "{'accession': 'ENSE00000736842', 'source': 'Ensembl'}\n",
      "{'accession': 'ENSE00003284476', 'source': 'Ensembl'}\n",
      "{'accession': 'ENSE00003432012', 'source': 'Ensembl'}\n",
      "{'accession': 'ENSE00001594859', 'source': 'Ensembl'}\n",
      "{'accession': 'ENSE00000736851', 'source': 'Ensembl'}\n",
      "{'accession': 'ENSE00000736853', 'source': 'Ensembl'}\n",
      "{'accession': 'ENSE00000736855', 'source': 'Ensembl'}\n",
      "{'accession': 'ENSE00001132088', 'source': 'Ensembl'}\n",
      "{'accession': 'ENSE00003563527', 'source': 'Ensembl'}\n",
      "{'accession': 'ENSE00003592169', 'source': 'Ensembl'}\n",
      "{'accession': 'ENSE00001834784', 'source': 'Ensembl'}\n",
      "{'accession': 'ENSE00001956725', 'source': 'Ensembl'}\n",
      "{'accession': 'ENSE00002046241', 'source': 'Ensembl'}\n",
      "{'accession': 'ENSE00002511393', 'source': 'Ensembl'}\n",
      "{'accession': 'ENSE00002515122', 'source': 'Ensembl'}\n",
      "{'accession': 'ENSE00002060645', 'source': 'Ensembl'}\n",
      "{'accession': 'ENSE00001925128', 'source': 'Ensembl'}\n",
      "{'accession': 'ENSE00003636897', 'source': 'Ensembl'}\n",
      "{'accession': 'ENSE00003490629', 'source': 'Ensembl'}\n",
      "{'accession': 'ENSE00003667843', 'source': 'Ensembl'}\n",
      "{'accession': 'ENSE00003494530', 'source': 'Ensembl'}\n",
      "{'accession': 'ENSE00003537550', 'source': 'Ensembl'}\n",
      "{'accession': 'ENSE00003472271', 'source': 'Ensembl'}\n",
      "{'accession': 'ENSE00002475518', 'source': 'Ensembl'}\n",
      "{'accession': 'ENSE00001819095', 'source': 'Ensembl'}\n",
      "{'accession': 'ENSE00001947600', 'source': 'Ensembl'}\n",
      "{'accession': 'ENSE00003652997', 'source': 'Ensembl'}\n",
      "{'accession': 'ENSE00003542252', 'source': 'Ensembl'}\n",
      "{'accession': 'ENSE00003487530', 'source': 'Ensembl'}\n",
      "{'accession': 'ENSE00003602711', 'source': 'Ensembl'}\n",
      "{'accession': 'ENSE00003649175', 'source': 'Ensembl'}\n",
      "{'accession': 'ENSE00003614345', 'source': 'Ensembl'}\n",
      "{'accession': 'ENSE00003556583', 'source': 'Ensembl'}\n",
      "{'accession': 'ENSE00001864408', 'source': 'Ensembl'}\n",
      "{'accession': 'ENSE00002471171', 'source': 'Ensembl'}\n",
      "{'accession': 'ENSE00003467192', 'source': 'Ensembl'}\n",
      "{'accession': 'ENSE00001832962', 'source': 'Ensembl'}\n",
      "{'accession': 'ENSE00001814863', 'source': 'Ensembl'}\n",
      "{'accession': 'ENSE00003693657', 'source': 'Ensembl'}\n",
      "{'accession': 'ENSE00003657422', 'source': 'Ensembl'}\n",
      "{'accession': 'ENSE00003690889', 'source': 'Ensembl'}\n",
      "{'accession': 'ENSE00003466220', 'source': 'Ensembl'}\n",
      "{'accession': 'ENSE00003616509', 'source': 'Ensembl'}\n",
      "{'accession': 'ENSE00003573617', 'source': 'Ensembl'}\n",
      "{'accession': 'ENSE00003500083', 'source': 'Ensembl'}\n",
      "{'accession': 'ENSE00002492511', 'source': 'Ensembl'}\n",
      "{'accession': 'ENSE00002087224', 'source': 'Ensembl'}\n",
      "{'accession': 'ENSE00002048881', 'source': 'Ensembl'}\n",
      "{'accession': 'ENSE00003645412', 'source': 'Ensembl'}\n",
      "{'accession': 'ENSE00001847864', 'source': 'Ensembl'}\n",
      "{'accession': 'ENSE00002027185', 'source': 'Ensembl'}\n",
      "{'accession': 'ENSE00002019786', 'source': 'Ensembl'}\n",
      "{'accession': 'ENSE00001898504', 'source': 'Ensembl'}\n",
      "{'accession': 'ENSE00001827186', 'source': 'Ensembl'}\n",
      "{'accession': 'ENSE00002046770', 'source': 'Ensembl'}\n",
      "{'accession': 'ENSE00002038267', 'source': 'Ensembl'}\n",
      "{}\n",
      "{}\n",
      "{}\n",
      "{}\n",
      "{}\n",
      "{}\n",
      "{}\n",
      "{}\n",
      "{}\n",
      "{}\n",
      "{}\n",
      "{}\n",
      "{}\n",
      "{}\n",
      "{}\n",
      "{}\n",
      "{}\n",
      "{}\n",
      "{}\n",
      "{}\n",
      "{}\n",
      "{}\n",
      "{}\n",
      "{}\n",
      "{}\n",
      "{}\n",
      "{}\n",
      "{}\n",
      "{}\n",
      "{}\n",
      "{}\n",
      "{}\n",
      "{}\n",
      "{}\n",
      "{}\n",
      "{}\n",
      "{}\n",
      "{}\n",
      "{}\n",
      "{}\n",
      "{}\n",
      "{}\n",
      "{}\n",
      "{}\n",
      "{}\n",
      "{}\n",
      "{}\n",
      "{}\n",
      "{}\n",
      "{}\n",
      "{}\n"
     ]
    }
   ],
   "source": [
    "for exon in root.iter('exon'):\n",
    "    print (exon.attrib)"
   ]
  },
  {
   "cell_type": "code",
   "execution_count": 58,
   "metadata": {
    "collapsed": false
   },
   "outputs": [
    {
     "name": "stdout",
     "output_type": "stream",
     "text": [
      "coordinates {'end': '5229', 'start': '5001', 'coord_system': 'LRG_1', 'strand': '1'}\n",
      "coordinates {'end': '229', 'start': '1', 'coord_system': 'LRG_1t1'}\n",
      "coordinates {'end': '35', 'start': '1', 'coord_system': 'LRG_1p1'}\n"
     ]
    }
   ],
   "source": [
    "for child in exon_info:\n",
    "    print (child.tag, child.attrib)\n",
    "    #rank = country.find('rank').text\n",
    "    #start = exon.find('start')\n",
    "    #print (start)"
   ]
  },
  {
   "cell_type": "code",
   "execution_count": 59,
   "metadata": {
    "collapsed": false
   },
   "outputs": [
    {
     "name": "stdout",
     "output_type": "stream",
     "text": [
      "LRG_1 2197 NG_007400.1 t1 LRG_1 5001 22544 1 LRG_1 5127 21138 1\n"
     ]
    }
   ],
   "source": [
    "for fixed in root.findall(\"./fixed_annotation\"):\n",
    "    lrg_id = fixed.find('id').text\n",
    "    hgnc_id = fixed.find ('hgnc_id').text\n",
    "    seq_source = fixed.find ('sequence_source').text\n",
    "    \n",
    "    for transcript in root.findall(\"./fixed_annotation/transcript\"):\n",
    "        transcript = transcript.get('name')\n",
    "                \n",
    "        for coordinates in root.findall(\"./fixed_annotation/transcript/coordinates\"):\n",
    "            cs = coordinates.get('coord_system')\n",
    "            start_cs = coordinates.get('start')\n",
    "            end_cs = coordinates.get('end')\n",
    "            strand_cs = coordinates.get('strand')\n",
    "        \n",
    "        for coordinates in root.findall(\"./fixed_annotation/transcript/coding_region/coordinates\"):\n",
    "            cs_cr = coordinates.get('coord_system')\n",
    "            start_cs_cr = coordinates.get('start')\n",
    "            end_cs_cr = coordinates.get('end')\n",
    "            strand_cs_cr = coordinates.get('strand')\n",
    "          \n",
    "        for coor_exon in root.findall(\"./fixed_annotation/transcript/exon\"):\n",
    "            exon_number = coordinates.get('label')\n",
    "            \n",
    "            for coor_exon in root.findall(\"./fixed_annotation/transcript/exon/coordinates\"):\n",
    "                exonC_start = coor_exon.get('start')\n",
    "                exonC_end = coor_exon.get('end')\n",
    "            \n",
    "            # print = (exon_number, exonC_start, exonC_end)\n",
    "            #list_exons = (exon_number, exonC_start, exonC_end)\n",
    "          \n",
    "\n",
    "    print(lrg_id, hgnc_id, seq_source, transcript, cs, start_cs, end_cs, strand_cs, cs_cr, start_cs_cr, end_cs_cr, strand_cs_cr)"
   ]
  },
  {
   "cell_type": "code",
   "execution_count": 60,
   "metadata": {
    "collapsed": false
   },
   "outputs": [
    {
     "name": "stdout",
     "output_type": "stream",
     "text": [
      "GRCh37.p13 17 NC_000017.10 48259457 48284000\n",
      "GRCh38.p7 17 NC_000017.11 50182096 50206639\n"
     ]
    }
   ],
   "source": [
    "#for annotation in up_anno.findall('annotation_set'):\n",
    "for annotation in up_anno[1].findall('mapping'):\n",
    "    #GHC = annotation.find('rank').text\n",
    "    #name = annotation.get('type')\n",
    "    coord = annotation.get('coord_system')\n",
    "    chro = annotation.get('other_name')\n",
    "    NC_trans = annotation.get('other_id')\n",
    "    gstart = annotation.get('other_start')\n",
    "    gend = annotation.get('other_end')\n",
    "    print (coord, chro, NC_trans, gstart, gend, )"
   ]
  },
  {
   "cell_type": "code",
   "execution_count": 61,
   "metadata": {
    "collapsed": false
   },
   "outputs": [
    {
     "name": "stdout",
     "output_type": "stream",
     "text": [
      "-1 1 24544 50182096 50206639\n"
     ]
    }
   ],
   "source": [
    "for annotation in up_anno[1][3].findall('mapping_span'):\n",
    "    #GHC = annotation.find('rank').text\n",
    "    #name = annotation.get('type')\n",
    "    strand = annotation.get('strand')\n",
    "    lrg_start = annotation.get('lrg_start')\n",
    "    lrg_end = annotation.get('lrg_end')\n",
    "    lrg_gstart = annotation.get('other_start')\n",
    "    lrg_gend = annotation.get('other_end')\n",
    "    print (strand, lrg_start, lrg_end,  lrg_gstart, lrg_gend )\n"
   ]
  },
  {
   "cell_type": "code",
   "execution_count": 26,
   "metadata": {
    "collapsed": false
   },
   "outputs": [
    {
     "name": "stdout",
     "output_type": "stream",
     "text": [
      "[[{}, {'end': '5229', 'start': '5001', 'coord_system': 'LRG_1', 'strand': '1'}, {'name': 't1'}], [{}, {'end': '6887', 'start': '6693', 'coord_system': 'LRG_1', 'strand': '1'}, {'name': 't1'}], [{}, {'end': '7084', 'start': '7050', 'coord_system': 'LRG_1', 'strand': '1'}, {'name': 't1'}], [{}, {'end': '7222', 'start': '7187', 'coord_system': 'LRG_1', 'strand': '1'}, {'name': 't1'}], [{}, {'end': '7414', 'start': '7313', 'coord_system': 'LRG_1', 'strand': '1'}, {'name': 't1'}], [{}, {'end': '8207', 'start': '8136', 'coord_system': 'LRG_1', 'strand': '1'}, {'name': 't1'}], [{}, {'end': '8479', 'start': '8435', 'coord_system': 'LRG_1', 'strand': '1'}, {'name': 't1'}], [{}, {'end': '8691', 'start': '8638', 'coord_system': 'LRG_1', 'strand': '1'}, {'name': 't1'}], [{}, {'end': '8908', 'start': '8855', 'coord_system': 'LRG_1', 'strand': '1'}, {'name': 't1'}], [{}, {'end': '9460', 'start': '9407', 'coord_system': 'LRG_1', 'strand': '1'}, {'name': 't1'}], [{}, {'end': '9630', 'start': '9577', 'coord_system': 'LRG_1', 'strand': '1'}, {'name': 't1'}], [{}, {'end': '10023', 'start': '9970', 'coord_system': 'LRG_1', 'strand': '1'}, {'name': 't1'}], [{}, {'end': '10156', 'start': '10112', 'coord_system': 'LRG_1', 'strand': '1'}, {'name': 't1'}], [{}, {'end': '10326', 'start': '10273', 'coord_system': 'LRG_1', 'strand': '1'}, {'name': 't1'}], [{}, {'end': '10485', 'start': '10441', 'coord_system': 'LRG_1', 'strand': '1'}, {'name': 't1'}], [{}, {'end': '10717', 'start': '10664', 'coord_system': 'LRG_1', 'strand': '1'}, {'name': 't1'}], [{}, {'end': '11073', 'start': '10975', 'coord_system': 'LRG_1', 'strand': '1'}, {'name': 't1'}], [{}, {'end': '11206', 'start': '11162', 'coord_system': 'LRG_1', 'strand': '1'}, {'name': 't1'}], [{}, {'end': '11408', 'start': '11310', 'coord_system': 'LRG_1', 'strand': '1'}, {'name': 't1'}], [{}, {'end': '11593', 'start': '11540', 'coord_system': 'LRG_1', 'strand': '1'}, {'name': 't1'}], [{}, {'end': '11919', 'start': '11812', 'coord_system': 'LRG_1', 'strand': '1'}, {'name': 't1'}], [{}, {'end': '12067', 'start': '12014', 'coord_system': 'LRG_1', 'strand': '1'}, {'name': 't1'}], [{}, {'end': '12291', 'start': '12193', 'coord_system': 'LRG_1', 'strand': '1'}, {'name': 't1'}], [{}, {'end': '12510', 'start': '12457', 'coord_system': 'LRG_1', 'strand': '1'}, {'name': 't1'}], [{}, {'end': '12697', 'start': '12599', 'coord_system': 'LRG_1', 'strand': '1'}, {'name': 't1'}], [{}, {'end': '13646', 'start': '13593', 'coord_system': 'LRG_1', 'strand': '1'}, {'name': 't1'}], [{}, {'end': '13843', 'start': '13790', 'coord_system': 'LRG_1', 'strand': '1'}, {'name': 't1'}], [{}, {'end': '14000', 'start': '13947', 'coord_system': 'LRG_1', 'strand': '1'}, {'name': 't1'}], [{}, {'end': '14165', 'start': '14112', 'coord_system': 'LRG_1', 'strand': '1'}, {'name': 't1'}], [{}, {'end': '14660', 'start': '14616', 'coord_system': 'LRG_1', 'strand': '1'}, {'name': 't1'}], [{}, {'end': '14852', 'start': '14754', 'coord_system': 'LRG_1', 'strand': '1'}, {'name': 't1'}], [{}, {'end': '15257', 'start': '15150', 'coord_system': 'LRG_1', 'strand': '1'}, {'name': 't1'}], [{}, {'end': '15823', 'start': '15716', 'coord_system': 'LRG_1', 'strand': '1'}, {'name': 't1'}], [{}, {'end': '16097', 'start': '16044', 'coord_system': 'LRG_1', 'strand': '1'}, {'name': 't1'}], [{}, {'end': '16313', 'start': '16260', 'coord_system': 'LRG_1', 'strand': '1'}, {'name': 't1'}], [{}, {'end': '16639', 'start': '16532', 'coord_system': 'LRG_1', 'strand': '1'}, {'name': 't1'}], [{}, {'end': '16781', 'start': '16728', 'coord_system': 'LRG_1', 'strand': '1'}, {'name': 't1'}], [{}, {'end': '16961', 'start': '16908', 'coord_system': 'LRG_1', 'strand': '1'}, {'name': 't1'}], [{}, {'end': '17263', 'start': '17102', 'coord_system': 'LRG_1', 'strand': '1'}, {'name': 't1'}], [{}, {'end': '17472', 'start': '17365', 'coord_system': 'LRG_1', 'strand': '1'}, {'name': 't1'}], [{}, {'end': '17737', 'start': '17630', 'coord_system': 'LRG_1', 'strand': '1'}, {'name': 't1'}], [{}, {'end': '17898', 'start': '17845', 'coord_system': 'LRG_1', 'strand': '1'}, {'name': 't1'}], [{}, {'end': '18110', 'start': '18003', 'coord_system': 'LRG_1', 'strand': '1'}, {'name': 't1'}], [{}, {'end': '18544', 'start': '18491', 'coord_system': 'LRG_1', 'strand': '1'}, {'name': 't1'}], [{}, {'end': '18764', 'start': '18657', 'coord_system': 'LRG_1', 'strand': '1'}, {'name': 't1'}], [{}, {'end': '19156', 'start': '19103', 'coord_system': 'LRG_1', 'strand': '1'}, {'name': 't1'}], [{}, {'end': '19625', 'start': '19518', 'coord_system': 'LRG_1', 'strand': '1'}, {'name': 't1'}], [{}, {'end': '20000', 'start': '19718', 'coord_system': 'LRG_1', 'strand': '1'}, {'name': 't1'}], [{}, {'end': '20323', 'start': '20133', 'coord_system': 'LRG_1', 'strand': '1'}, {'name': 't1'}], [{}, {'end': '20862', 'start': '20620', 'coord_system': 'LRG_1', 'strand': '1'}, {'name': 't1'}], [{}, {'end': '22544', 'start': '20992', 'coord_system': 'LRG_1', 'strand': '1'}, {'name': 't1'}]]\n"
     ]
    }
   ],
   "source": [
    "all_exons= []\n",
    "\n",
    "for transcript in root.findall ('fixed_annotation/transcript'):\n",
    "    transcript_name = transcript.attrib\n",
    "        \n",
    "    for exons in transcript.findall('exon'):\n",
    "        exon_label = exon.attrib\n",
    "        list_coord = exons.findall('coordinates')\n",
    "        coordinates = list_coord[0].attrib\n",
    "\n",
    "        all_exons.append([exon_label, coordinates, transcript_name])\n",
    "            \n",
    "print (all_exons)"
   ]
  },
  {
   "cell_type": "code",
   "execution_count": 29,
   "metadata": {
    "collapsed": false
   },
   "outputs": [
    {
     "name": "stdout",
     "output_type": "stream",
     "text": [
      "None None None None None\n",
      "None None None None None\n",
      "None None None None None\n",
      "1 5001 5229 1 229\n",
      "1 6693 6887 230 424\n",
      "1 7050 7084 425 459\n",
      "1 7187 7222 460 495\n",
      "1 7313 7414 496 597\n",
      "1 8136 8207 598 669\n",
      "1 8435 8479 670 714\n",
      "1 8638 8691 715 768\n",
      "1 8855 8908 769 822\n",
      "1 9407 9460 823 876\n",
      "1 9577 9630 877 930\n",
      "1 9970 10023 931 984\n",
      "1 10112 10156 985 1029\n",
      "1 10273 10326 1030 1083\n",
      "1 10441 10485 1084 1128\n",
      "1 10664 10717 1129 1182\n",
      "1 10975 11073 1183 1281\n",
      "1 11162 11206 1282 1326\n",
      "1 11310 11408 1327 1425\n",
      "1 11540 11593 1426 1479\n",
      "1 11812 11919 1480 1587\n",
      "1 12014 12067 1588 1641\n",
      "1 12193 12291 1642 1740\n",
      "1 12457 12510 1741 1794\n",
      "1 12599 12697 1795 1893\n",
      "1 13593 13646 1894 1947\n",
      "1 13790 13843 1948 2001\n",
      "1 13947 14000 2002 2055\n",
      "1 14112 14165 2056 2109\n",
      "1 14616 14660 2110 2154\n",
      "1 14754 14852 2155 2253\n",
      "1 15150 15257 2254 2361\n",
      "1 15716 15823 2362 2469\n",
      "1 16044 16097 2470 2523\n",
      "1 16260 16313 2524 2577\n",
      "1 16532 16639 2578 2685\n",
      "1 16728 16781 2686 2739\n",
      "1 16908 16961 2740 2793\n",
      "1 17102 17263 2794 2955\n",
      "1 17365 17472 2956 3063\n",
      "1 17630 17737 3064 3171\n",
      "1 17845 17898 3172 3225\n",
      "1 18003 18110 3226 3333\n",
      "1 18491 18544 3334 3387\n",
      "1 18657 18764 3388 3495\n",
      "1 19103 19156 3496 3549\n",
      "1 19518 19625 3550 3657\n",
      "1 19718 20000 3658 3940\n",
      "1 20133 20323 3941 4131\n",
      "1 20620 20862 4132 4374\n",
      "1 20992 22544 4375 5927\n",
      "None None None None None\n"
     ]
    }
   ],
   "source": [
    "#for annotation in up_anno.iter('mapping_span'):\n",
    "    \n",
    "for annotation in up_anno:   \n",
    "    if annotation.attrib['type']=='ncbi':\n",
    "    #if mapping.attrib.get('type')=='transcript':\n",
    "        #for ('./mapping/mapping_span') in annotation:\n",
    "        for mapping in annotation:\n",
    "            for ms in mapping:\n",
    "                strand = ms.get('strand')\n",
    "                lrg_start = ms.get('lrg_start')\n",
    "                lrg_end = ms.get('lrg_end')\n",
    "                lrg_gstart = ms.get('other_start')\n",
    "                lrg_gend = ms.get('other_end')\n",
    "                print (strand, lrg_start, lrg_end,  lrg_gstart, lrg_gend )\n"
   ]
  },
  {
   "cell_type": "code",
   "execution_count": null,
   "metadata": {
    "collapsed": true
   },
   "outputs": [],
   "source": []
  }
 ],
 "metadata": {
  "anaconda-cloud": {},
  "kernelspec": {
   "display_name": "Python [default]",
   "language": "python",
   "name": "python3"
  },
  "language_info": {
   "codemirror_mode": {
    "name": "ipython",
    "version": 3
   },
   "file_extension": ".py",
   "mimetype": "text/x-python",
   "name": "python",
   "nbconvert_exporter": "python",
   "pygments_lexer": "ipython3",
   "version": "3.5.2"
  }
 },
 "nbformat": 4,
 "nbformat_minor": 1
}
